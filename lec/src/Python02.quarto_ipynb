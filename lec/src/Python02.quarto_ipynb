{
  "cells": [
    {
      "cell_type": "markdown",
      "metadata": {},
      "source": [
        "---\n",
        "title: \"Feature Engineering in Python\"\n",
        "subtitle: \"Applied Machine Learning\"\n",
        "author: \"Calvin\"\n",
        "  \n",
        "jupyter: python3\n",
        "\n",
        "execute:\n",
        "    echo: true\n",
        "    cache: true\n",
        "    freeze: true  # never re-render during project render\n",
        "---\n",
        "\n",
        "\n",
        "## Agenda\n",
        "\n",
        "1.  Feature Engineering\n",
        "2.  Variable Selection\n",
        "\n",
        "## Import\n",
        "\n",
        "-   Python base data stack"
      ],
      "id": "9196edf2"
    },
    {
      "cell_type": "code",
      "metadata": {},
      "source": [
        "import numpy as np\n",
        "import pandas as pd\n",
        "import matplotlib.pyplot as plt\n",
        "import seaborn as sns"
      ],
      "id": "3606e465",
      "execution_count": null,
      "outputs": []
    },
    {
      "cell_type": "markdown",
      "metadata": {},
      "source": [
        "-   R compatibility"
      ],
      "id": "cf9ad60a"
    },
    {
      "cell_type": "code",
      "metadata": {},
      "source": [
        "import pyreadr"
      ],
      "id": "ed753ed2",
      "execution_count": null,
      "outputs": []
    },
    {
      "cell_type": "markdown",
      "metadata": {},
      "source": [
        "## ML Library"
      ],
      "id": "8dd441c3"
    },
    {
      "cell_type": "code",
      "metadata": {},
      "source": [
        "from sklearn.model_selection import train_test_split\n",
        "from sklearn.linear_model import LinearRegression\n",
        "from sklearn.model_selection import RepeatedKFold, cross_val_score\n",
        "from sklearn.metrics import mean_squared_error\n",
        "from sklearn.feature_selection import RFE\n",
        "from sklearn.ensemble import RandomForestRegressor"
      ],
      "id": "8430659b",
      "execution_count": null,
      "outputs": []
    },
    {
      "cell_type": "markdown",
      "metadata": {},
      "source": [
        "## Setup\n",
        "\n",
        "-   `pyreadr` to read in an R dataset.\n"
      ],
      "id": "164cca11"
    },
    {
      "cell_type": "code",
      "metadata": {},
      "source": [
        "url = 'https://cd-public.github.io/D505/dat/'\n",
        "rds = 'wine.rds'\n",
        "pyreadr.download_file(url + rds, rds) \n",
        "wine = pyreadr.read_r(rds)[None]      \n",
        "wine.dropna(subset=['points','price'])"
      ],
      "id": "bd038a95",
      "execution_count": null,
      "outputs": []
    },
    {
      "cell_type": "markdown",
      "metadata": {},
      "source": [
        "# Feature Engineering\n",
        "\n",
        "## Categorical vs. Continuous\n",
        "\n",
        "-   What is a categorical variable?\n",
        "-   What is a continuous variable?\n",
        "-   Why visualize at the data before modeling it?\n",
        "\n",
        "## Categorical Example 1\n"
      ],
      "id": "0b100edc"
    },
    {
      "cell_type": "code",
      "metadata": {},
      "source": [
        "wine['roger'] = wine['taster_name'] == \"Roger Voss\"\n",
        "wine['pinot_gris'] = wine['variety'] == \"Pinot Gris\"\n",
        "means = wine.groupby(['roger','pinot_gris'])['points'].mean().reset_index()\n",
        "sns.lineplot(means,x='pinot_gris',y='points',hue='roger')"
      ],
      "id": "431ada9b",
      "execution_count": null,
      "outputs": []
    },
    {
      "cell_type": "markdown",
      "metadata": {},
      "source": [
        "## Categorical Example 2\n"
      ],
      "id": "492327cd"
    },
    {
      "cell_type": "code",
      "metadata": {},
      "source": [
        "filtered = wine[wine['province']=='Oregon']\n",
        "sns.lineplot(filtered.groupby('year')['price'].mean())"
      ],
      "id": "38c2eca4",
      "execution_count": null,
      "outputs": []
    },
    {
      "cell_type": "markdown",
      "metadata": {},
      "source": [
        "## Exercise\n",
        "\n",
        "1.  Group by winery and year, Find:\n",
        "    -   The average score, and \n",
        "    -   Number of reviews.\n",
        "2.  Find year-on-year change in score by winery.\n",
        "\n",
        "## Year-on-Year Change Example\n"
      ],
      "id": "ef2020f5"
    },
    {
      "cell_type": "code",
      "metadata": {},
      "source": [
        "wino = wine.groupby(['winery', 'year']).agg(\n",
        "    avg_score=('points', 'mean'),\n",
        "    num_reviews=('id', 'nunique')\n",
        ")\n",
        "wino = wino.sort_values(by=['winery', 'year'])\n",
        "wino['score_change'] = wino.groupby('winery')['avg_score'].diff()\n",
        "wino = wino.dropna(subset=['score_change'])\n",
        "wino.head()"
      ],
      "id": "3c7b0530",
      "execution_count": null,
      "outputs": []
    },
    {
      "cell_type": "markdown",
      "metadata": {},
      "source": [
        "## Dummy Variables\n",
        "\n",
        "-   **What are Dummy Variables?**: \n",
        "    -   Represent categories as 0s and 1s for models.\n",
        "-   **Why Use Dummy Variables?**: \n",
        "    -   Handle categorical data in numerical algorithms.\n",
        "-   **Avoid Dummy Trap**: \n",
        "    -   Drop one column to prevent multicollinearity.\n",
        "\n",
        "## Many vs Few Dummies\n",
        "\n",
        "-   **Few Dummies**: \n",
        "    -   Simplifies models, risks losing fine-grained patterns.\n",
        "-   **Many Dummies**: \n",
        "    -   Captures detailed trends, increases model complexity.\n",
        "-   **Key Decision**: \n",
        "    -   Balance interpretability and predictive power.\n",
        "\n",
        "## \"fastDummies\" Package\n",
        "\n",
        "-   **Purpose**: \n",
        "    -   Quickly create dummy variables in R datasets.\n",
        "-   **Key Functions**: \n",
        "    -   `dummy_cols()` adds dummy columns efficiently.\n",
        "-   **Features**: \n",
        "    -   Handles multiple columns and missing data flexibly.\n",
        "\n",
        "## Few Dummies\n"
      ],
      "id": "4b0aaf0a"
    },
    {
      "cell_type": "code",
      "metadata": {},
      "source": [
        "wino = wine[['taster_name']]\n",
        "wino = pd.get_dummies(wino, columns=['taster_name'])\n",
        "wino = wino.iloc[:, :4]\n",
        "wino.head()"
      ],
      "id": "400779dd",
      "execution_count": null,
      "outputs": []
    },
    {
      "cell_type": "markdown",
      "metadata": {},
      "source": [
        "## Many Dummies\n",
        "\n",
        "- Can use `siuba` for `fct_lump` or write custom:\n"
      ],
      "id": "1652231b"
    },
    {
      "cell_type": "code",
      "metadata": {},
      "source": [
        "wino = wine[['variety']]\n",
        "wino = pd.get_dummies(wino, columns=['variety'])\n",
        "wino.head()"
      ],
      "id": "7f2620da",
      "execution_count": null,
      "outputs": []
    },
    {
      "cell_type": "markdown",
      "metadata": {},
      "source": [
        "## Other types of engineered categorical features...\n",
        "\n",
        "-   Words or phrases in text\n",
        "-   A given time period\n",
        "-   An arbitrary numerical cut-off\n",
        "-   Demographic variables\n",
        "\n",
        "## What about numerical features?\n"
      ],
      "id": "e3944b06"
    },
    {
      "cell_type": "code",
      "metadata": {},
      "source": [
        "sns.histplot(wine['price'], bins=30, kde=False)"
      ],
      "id": "a898962b",
      "execution_count": null,
      "outputs": []
    },
    {
      "cell_type": "markdown",
      "metadata": {},
      "source": [
        "## Take the natural log\n"
      ],
      "id": "2d3a1f64"
    },
    {
      "cell_type": "code",
      "metadata": {},
      "source": [
        "wine['log_price'] = np.log(wine['price'])\n",
        "sns.histplot(wine['log_price'], bins=30, kde=False)"
      ],
      "id": "dca430b2",
      "execution_count": null,
      "outputs": []
    },
    {
      "cell_type": "markdown",
      "metadata": {},
      "source": [
        "## Standardizing\n",
        "\n",
        "-   Create a common scale across variables.\n",
        "    -   Mean-centering $x-\\bar{x}$\n",
        "    -   Scaling: $x/std(x)$\n",
        "\n",
        "-   Helps reduce bias when interactions are included. \n",
        "    -   (i.e. eliminates variance inflation).\n",
        "\n",
        "## Other transformations.\n",
        "\n",
        "-   I use logs \\> 95% of the time, standarizing \\~40%.\n",
        "-   There are [many other transformations](http://www.feat.engineering/numeric-one-to-many.html):\n",
        "    -   YoY, QoQ, etc. (absolute and percent)\n",
        "    -   log\n",
        "    -   polynomial transforms\n",
        "    -   lags!\n",
        "\n",
        "## Standardize\n",
        "\n",
        "- R was: `list(normalized = ~(scale(.) %>% as.vector))`\n",
        "- Py is either the calculation or include `scipy`\n",
        "\n",
        "\n",
        "```{r Normalize}\n",
        "wine['std_pts'] = (wine['points'] - wine['points'].mean()) / wine['points'].std()\n",
        "\n",
        "print(wine[['points', 'std_pts']].head())\n",
        "```\n",
        "\n",
        "\n",
        "- There's also built-ins.\n",
        "\n",
        "```{.python}\n",
        "# or use scipy\n",
        "from scipy import stats \n",
        "wine['points'] = stats.zscore(wine['points']) \n",
        "```\n",
        "\n",
        "## Philosophy\n",
        "\n",
        "\n",
        "```{dot Philosophy}\n",
        "//| echo: false\n",
        "digraph G {\n",
        "    \n",
        "    bgcolor=\"#101010\";\n",
        "\n",
        "    node [\n",
        "        fontcolor = \"#e0e0e0\",\n",
        "        color = \"#e0e0e0\",\n",
        "    ]\n",
        "\n",
        "    edge [\n",
        "        color = \"#e0e0e0\",\n",
        "        fontcolor = \"#e0e0e0\"\n",
        "    ]\n",
        "    node [shape=circle];\n",
        "    A [label=\"All Data\"];\n",
        "\n",
        "    node [shape=pentagon];\n",
        "    B [label=\"Training\"];\n",
        "    C [label=\"Testing\"];\n",
        "\n",
        "    node [shape=rectangle];\n",
        "    D [label=\"Resample 1\"];\n",
        "    E [label=\"Resample 2\"];\n",
        "    F [label=\"Resample B\"];\n",
        "\n",
        "    node [shape=ellipse];\n",
        "    G [label=\"Analysis\"];\n",
        "    H [label=\"Assessment\"];\n",
        "    I [label=\"Analysis\"];\n",
        "    J [label=\"Assessment\"];\n",
        "    K [label=\"Analysis\"];\n",
        "    L [label=\"Assessment\"];\n",
        "\n",
        "    A -> B;\n",
        "    A -> C;\n",
        "    B -> D;\n",
        "    B -> E;\n",
        "    B -> F;\n",
        "    D -> G;\n",
        "    D -> H;\n",
        "    E -> I;\n",
        "    E -> J;\n",
        "    F -> K;\n",
        "    F -> L;\n",
        "}\n",
        "```\n",
        "\n",
        "\n",
        "## Types of resampling\n",
        "\n",
        "-   [V-fold Cross-Validation](http://www.feat.engineering/resampling.html#cv)\n",
        "    -   Divides data into $k$ folds, trains on $k−1$ folds, validates on the remaining fold, for all folds.\n",
        "-   [Monte Carlo Cross-Validation](http://www.feat.engineering/resampling.html#monte-carlo-cross-validation)\n",
        "    -   Randomly splits data into training and validation sets multiple times, averaging results for evaluation.\n",
        "-   [The Bootstrap](http://www.feat.engineering/resampling.html#the-bootstrap)\n",
        "    -   Uses resampling with replacement to estimate model accuracy and variability.\n",
        "\n",
        "## Setup the Dataframe\n",
        "\n",
        "-   Follow [this link](https://topepo.github.io/caret) for the full documentation on caret.\n"
      ],
      "id": "38824b77"
    },
    {
      "cell_type": "code",
      "metadata": {},
      "source": [
        "wino = wine.copy()\n",
        "wino['fr'] = (wino['country'] == \"France\")\n",
        "wino['cab'] = wino['variety'].str.contains(\"Cabernet\")\n",
        "wino['lprice'] = np.log(wino['price'])\n",
        "wino = wino.dropna(subset=['fr', 'cab'])\n",
        "wino = wino[['lprice', 'points', 'fr', 'cab']]"
      ],
      "id": "367b7dfe",
      "execution_count": null,
      "outputs": []
    },
    {
      "cell_type": "markdown",
      "metadata": {},
      "source": [
        "-   Off hand, I would've standarized points as well, but\n",
        "-   We're following Jameson's code...\n",
        "    -   ...who *understands the data better*.\n",
        "\n",
        "## Split Samples\n",
        "\n",
        "- Single line train/test split with sklearn.\n"
      ],
      "id": "90800c9f"
    },
    {
      "cell_type": "code",
      "metadata": {},
      "source": [
        "wino_tr, wino_te = train_test_split(wino)"
      ],
      "id": "36a450c7",
      "execution_count": null,
      "outputs": []
    },
    {
      "cell_type": "markdown",
      "metadata": {},
      "source": [
        "## Train the model\n",
        "\n",
        "-   Configure `train` to cross validate\n"
      ],
      "id": "d097170c"
    },
    {
      "cell_type": "code",
      "metadata": {},
      "source": [
        "model = LinearRegression()\n",
        "cv = RepeatedKFold(n_splits=5, n_repeats=3)\n",
        "scores = cross_val_score(model,\n",
        "                         wino_tr.drop(columns=['lprice']), \n",
        "                         wino_tr['lprice'], \n",
        "                         cv=cv, \n",
        "                         scoring='neg_mean_squared_error')\n",
        "model.fit(wino_tr.drop(columns=['lprice']),wino_tr['lprice'])"
      ],
      "id": "4fb4ffa5",
      "execution_count": null,
      "outputs": []
    },
    {
      "cell_type": "markdown",
      "metadata": {},
      "source": [
        "## Train vs. test\n",
        "\n",
        "::::: columns\n",
        "\n",
        "::: {.column width=\"50%\"}\n"
      ],
      "id": "402e8afb"
    },
    {
      "cell_type": "code",
      "metadata": {},
      "source": [
        "y_pred = model.predict(wino_tr.drop(columns=['lprice']))\n",
        "mean_squared_error(wino_tr['lprice'], y_pred) ** .5"
      ],
      "id": "396f1b5f",
      "execution_count": null,
      "outputs": []
    },
    {
      "cell_type": "markdown",
      "metadata": {},
      "source": [
        ":::\n",
        "\n",
        "::: {.column width=\"50%\"}\n"
      ],
      "id": "f4db1dde"
    },
    {
      "cell_type": "code",
      "metadata": {},
      "source": [
        "y_pred = model.predict(wino_te.drop(columns=['lprice']))\n",
        "mean_squared_error(wino_te['lprice'], y_pred) ** .5"
      ],
      "id": "5df6fba7",
      "execution_count": null,
      "outputs": []
    },
    {
      "cell_type": "markdown",
      "metadata": {},
      "source": [
        ":::\n",
        "\n",
        ":::::\n",
        "\n",
        "# Feature selection\n",
        "\n",
        "## Stepwise selection\n",
        "\n",
        "-   **What is Stepwise Selection?**: Iterative method to add or remove predictors in a model based on statistical criteria.\n",
        "-   **Types**: Forward selection starts with no predictors; backward elimination starts with all predictors; stepwise combines both.\n",
        "-   **Goal**: Identify a model with strong predictive power and minimal overfitting.\n",
        "\n",
        "## Stepwise selection is bad\n",
        "\n",
        "Harrell (2015) provides a comprehensive indictment of the method that can be encapsulated by the statement:\n",
        "\n",
        "> **“… if this procedure had just been proposed as a statistical method, it would most likely be rejected because it violates every principle of statistical estimation and hypothesis testing.”**\n",
        "\n",
        "  Reference: [Harrell, F. 2015. Regression Modeling Strategies. Springer.](https://link.springer.com/book/10.1007/978-3-319-19425-7https://link.springer.com/book/10.1007/978-3-319-19425-7)\n",
        "\n",
        "## Engineer 9 features\n"
      ],
      "id": "9dc899f9"
    },
    {
      "cell_type": "code",
      "metadata": {},
      "source": [
        "wino = wine.copy()\n",
        "top_countries = wino['country'].value_counts().nlargest(4).index\n",
        "top_varieties = wino['variety'].value_counts().nlargest(4).index\n",
        "wino['country'] = np.where(wino['country'].isin(top_countries), wino['country'], 'Other')\n",
        "wino['variety'] = np.where(wino['variety'].isin(top_varieties), wino['variety'], 'Other')\n",
        "wino['lprice'] = np.log(wino['price'])\n",
        "wino = wino[['lprice', 'points', 'country', 'variety']].dropna()\n",
        "\n",
        "wino = pd.get_dummies(wino, columns=['country', 'variety'], drop_first=True)"
      ],
      "id": "dfed2c12",
      "execution_count": null,
      "outputs": []
    },
    {
      "cell_type": "markdown",
      "metadata": {},
      "source": [
        "## Add Dummy Columns\n",
        "- Careful - a destructive update to `wino`!"
      ],
      "id": "736b0dff"
    },
    {
      "cell_type": "code",
      "metadata": {},
      "source": [
        "wino = wino.loc[:, ~wino.columns.str.contains('Other')]"
      ],
      "id": "8cd48c19",
      "execution_count": null,
      "outputs": []
    },
    {
      "cell_type": "markdown",
      "metadata": {},
      "source": [
        "## Factor"
      ],
      "id": "32310ea7"
    },
    {
      "cell_type": "code",
      "metadata": {},
      "source": [
        "def do_model(df, y_name):\n",
        "    df_tr, df_te = train_test_split(wino)\n",
        "    model = LinearRegression()\n",
        "    scores = cross_val_score(model,\n",
        "                            df_tr.drop(columns=[y_name]), \n",
        "                            df_tr[y_name], \n",
        "                            cv=RepeatedKFold(n_splits=5, n_repeats=3),\n",
        "                            scoring='neg_mean_squared_error')\n",
        "    model.fit(df_tr.drop(columns=[y_name]),df_tr[y_name])\n",
        "    y_pred = model.predict(df_tr.drop(columns=['lprice']))\n",
        "    tr = mean_squared_error(wino_tr['lprice'], model.predict(df_tr.drop(columns=['lprice']))) ** .5\n",
        "    te = mean_squared_error(wino_te['lprice'], model.predict(df_te.drop(columns=['lprice']))) ** .5\n",
        "    return model, tr, te"
      ],
      "id": "d447bc3b",
      "execution_count": null,
      "outputs": []
    },
    {
      "cell_type": "markdown",
      "metadata": {},
      "source": [
        "## Basic Model\n"
      ],
      "id": "40500fd5"
    },
    {
      "cell_type": "code",
      "metadata": {},
      "source": [
        "model, tr, te = do_model(wino, 'lprice')\n",
        "tr, te"
      ],
      "id": "4ef197ec",
      "execution_count": null,
      "outputs": []
    },
    {
      "cell_type": "markdown",
      "metadata": {},
      "source": [
        "## Variable Importance\n",
        "-   Importance depends on model used...\n"
      ],
      "id": "9340b7c3"
    },
    {
      "cell_type": "code",
      "metadata": {},
      "source": [
        "plt.bar(wino.columns.drop('lprice'), model.coef_)\n",
        "_ = plt.xticks(rotation=90)"
      ],
      "id": "ea6bf17f",
      "execution_count": null,
      "outputs": []
    },
    {
      "cell_type": "markdown",
      "metadata": {},
      "source": [
        "## Variable Importance\n",
        "\n",
        "-   Each (linear model) coefficient has a standard error, \n",
        "    -   Measures certainty of coefficient given data.\n",
        "-   For the t-statistic, \n",
        "    -   Confidence that the coefficient is different from 0\n",
        "    -   We divide the coefficient by the standard error.\n",
        "-   If \"small\" error relative to coefficient\n",
        "    -   Then \"big\" t-statistic & high feature importance!\n",
        "-   What about coefficient as variable importance?\n",
        "\n",
        "## [Recursive Feature Elimination](https://topepo.github.io/caret/recursive-feature-elimination.html) {.smaller}\n",
        "\n",
        "1. Tune/train the model on the training set using all predictors.\n",
        "2. Calculate model performance.\n",
        "3. Calculate variable importance or rankings.\n",
        "4. **for** each subset size $S_i$, i = 1...S **do**\n",
        "    1. Keep the $S_i$ most important variables.\n",
        "    2. [Optional] Pre-process the data.\n",
        "    3. Tune/train the model on the training set using $S_i$ predictors.\n",
        "    4. Calculate model performance.\n",
        "    5. [Optional] Recalculate the rankings for each predictor.\n",
        "5. **end**\n",
        "6. Calculate the performance profile over the $S_i$.\n",
        "7. Determine the appropriate number of predictors.\n",
        "8. Use the model corresponding to the optimal $S_i$.\n",
        "\n",
        "## Size Drop\n",
        "-   It did not seem like 2024 `r` could handle 90k wine samples.\n",
        "-   Python was faster on the 90k then R on 1k.\n",
        "\n",
        "```{r 1k}\n",
        "wino <- wino[sample(nrow(wino), 1000), ]\n",
        "```\n",
        "\n",
        "\n",
        "## Partition Again\n",
        "-   Partition"
      ],
      "id": "46a9a9c4"
    },
    {
      "cell_type": "code",
      "metadata": {},
      "source": [
        "wino_tr, wino_te = train_test_split(wino)"
      ],
      "id": "14b25d6e",
      "execution_count": null,
      "outputs": []
    },
    {
      "cell_type": "markdown",
      "metadata": {},
      "source": [
        "## Caret RFE\n"
      ],
      "id": "74a8c395"
    },
    {
      "cell_type": "code",
      "metadata": {},
      "source": [
        "model = RandomForestRegressor()\n",
        "rfe = RFE(estimator=model, n_features_to_select=3)\n",
        "rfe.fit(wino_tr.drop(columns=['lprice']), wino_tr['lprice'])\n",
        "wino_tr.drop(columns=['lprice']).columns, rfe.ranking_"
      ],
      "id": "7ff52a39",
      "execution_count": null,
      "outputs": []
    },
    {
      "cell_type": "markdown",
      "metadata": {},
      "source": [
        "## Practical Workflow\n",
        "\n",
        "\n",
        "```{dot Practice}\n",
        "//| echo: false\n",
        "digraph feature_engineering_pipeline {\n",
        "    \n",
        "    bgcolor=\"#101010\";\n",
        "\n",
        "    node [\n",
        "        fontcolor = \"#e0e0e0\",\n",
        "        color = \"#e0e0e0\",\n",
        "    ]\n",
        "\n",
        "    edge [\n",
        "        color = \"#e0e0e0\",\n",
        "        fontcolor = \"#e0e0e0\"\n",
        "    ]\n",
        "    node [shape=box];\n",
        "    \"Raw Data\" -> \"Lots of Features\" [label=\"Feature Engineering\"];\n",
        "    \"Lots of Features\" -> \"Candidate Features\" [label=\"Feature Selection\"];\n",
        "    \"Candidate Features\" -> \"Shortlist Features\" [label=\"Expert Input\"];\n",
        "    \"Shortlist Features\" -> \"Finalist Models\" [label=\"DS Judgement\"];\n",
        "    \"Finalist Models\" -> \"Production\" [label=\"Business Unit\"];\n",
        "}\n",
        "```\n",
        "\n",
        "\n",
        "## Key Terms\n",
        "\n",
        "::::: columns\n",
        "\n",
        "::: {.column width=\"50%\"}\n",
        "-   Feature Engineering\n",
        "-   Categorical Feature\n",
        "-   Continuous Feature\n",
        "-   Dummy\n",
        "-   Interaction\n",
        ":::\n",
        "\n",
        "::: {.column width=\"50%\"}\n",
        "-   Sklearn\n",
        "-   Model\n",
        "-   Resampling\n",
        "-   Train vs. Test Data\n",
        "-   Variable Importance\n",
        ":::\n",
        "\n",
        ":::::"
      ],
      "id": "a86dee38"
    }
  ],
  "metadata": {
    "kernelspec": {
      "name": "python3",
      "language": "python",
      "display_name": "Python 3 (ipykernel)",
      "path": "C:\\Users\\cd-desk\\AppData\\Local\\Programs\\Python\\Python312\\share\\jupyter\\kernels\\python3"
    }
  },
  "nbformat": 4,
  "nbformat_minor": 5
}