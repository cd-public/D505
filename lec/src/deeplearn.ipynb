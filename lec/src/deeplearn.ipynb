{
 "cells": [
  {
   "cell_type": "markdown",
   "id": "a31eb456",
   "metadata": {},
   "source": [
    "---\n",
    "title: \"Deep Leaning\"\n",
    "author: \"Hendrik > Calvin\"\n",
    "  \n",
    "execute:\n",
    "    echo: true\n",
    "    cache: true\n",
    "    freeze: true  # never re-render during project render\n",
    "---"
   ]
  },
  {
   "cell_type": "code",
   "execution_count": 9,
   "id": "68601a6b",
   "metadata": {},
   "outputs": [],
   "source": [
    "import torch\n",
    "import torch.nn as nn\n",
    "import torch.optim as optim\n",
    "from torch.utils.data import DataLoader, TensorDataset\n",
    "from sklearn.datasets import load_iris\n",
    "from sklearn.model_selection import train_test_split\n",
    "from sklearn.preprocessing import StandardScaler\n",
    "import numpy as np"
   ]
  },
  {
   "cell_type": "markdown",
   "id": "c2b6ae18",
   "metadata": {},
   "source": [
    "# Neural Networks Basics\n",
    "\n",
    "- **Definition:** A neural network is a computational model inspired by the structure and functioning of the human brain. It consists of interconnected nodes (neurons) organized in layers.\n",
    "  \n",
    "- **Basic Architecture:**\n",
    "  - Input Layer: Receives input data features.\n",
    "  - Hidden Layers: Intermediate layers that perform computations.\n",
    "  - Output Layer: Produces the final output or prediction.\n",
    "\n",
    "- **Forward Pass and Activation Functions:**\n",
    "  - Forward Pass: Input data flows through the network, and computations are performed layer by layer until the output is generated.\n",
    "  - Activation Functions: Non-linear functions applied to the weighted sum of inputs to introduce non-linearity and enable the network to learn complex patterns.\n",
    "  - Automatic feature engineering: we imagine that all the sophisticated feature engineering we are used to doing by hand happen automatically in the hidden layers.\n",
    "\n",
    "\n",
    "<a title=\"Paskari at the English-language Wikipedia, CC BY-SA 3.0 &lt;http://creativecommons.org/licenses/by-sa/3.0/&gt;, via Wikimedia Commons\" href=\"https://commons.wikimedia.org/wiki/File:Feed_forward_neural_net.gif\"><img width=\"512\" alt=\"Feed forward neural net\" src=\"https://upload.wikimedia.org/wikipedia/commons/5/54/Feed_forward_neural_net.gif?20240322215401\"></a>"
   ]
  },
  {
   "cell_type": "markdown",
   "id": "d9226fa4",
   "metadata": {},
   "source": []
  },
  {
   "cell_type": "markdown",
   "id": "aae77e35",
   "metadata": {},
   "source": [
    "# Functional Form of a Neuron\n",
    "\n",
    "- **Functional Form:**\n",
    "  - Input: $ x = (x_1, x_2, ..., x_n) $ - Input features or values.\n",
    "  - Weighted Sum: $ z = \\sum_{i=1}^{n} w_i \\cdot x_i + b $ - Linear combination of inputs with weights and bias.\n",
    "  - Activation Function: $ a = f(z) $ - Non-linear function applied to the weighted sum.\n",
    "\n",
    "<a title=\"Funcs, CC0, via Wikimedia Commons\" href=\"https://commons.wikimedia.org/wiki/File:Artificial_neuron_structure.svg\"><img style=\"background-color:white\" width=\"512\" alt=\"Artificial neuron structure\" src=\"https://upload.wikimedia.org/wikipedia/commons/thumb/c/c6/Artificial_neuron_structure.svg/512px-Artificial_neuron_structure.svg.png?20240531082700\"></a>"
   ]
  },
  {
   "cell_type": "markdown",
   "id": "32dc8eee",
   "metadata": {},
   "source": [
    "# Activation Functions\n",
    "\n",
    "- **Activation Functions:**\n",
    "  - **Sigmoid Function:**\n",
    "    - $ \\sigma(z) = \\frac{1}{1 + e^{-z}} $\n",
    "    - S-shaped curve mapping input to a range between 0 and 1. Used in binary classification tasks.\n",
    "\n",
    "  - **Softmax Function:**\n",
    "    - $ \\text{Softmax}(z_i) = \\frac{e^{z_i}}{\\sum_{j=1}^{N} e^{z_j}} $\n",
    "    - Outputs a probability distribution over multiple classes. Used in multi-class classification tasks.\n",
    "\n",
    "  - **ReLU (Rectified Linear Unit):**\n",
    "    - $ \\text{ReLU}(z) = \\max(0, z) $\n",
    "    - Outputs the input if it's positive, otherwise, outputs zero. Helps in overcoming the vanishing gradient problem.\n",
    "\n",
    "\n",
    "  - **Other Activation Functions:**\n",
    "    - **Tanh:** Hyperbolic tangent function, mapping input to a range between -1 and 1.\n",
    "    - **Leaky ReLU:** Variation of ReLU that allows a small gradient for negative inputs, addressing the dying ReLU problem.\n",
    "    - Many other activation functions exist, each with different properties and use cases.\n",
    "\n",
    "\n",
    "# Functional Form of a Neuron\n",
    "\n",
    "- **Functional Form:**\n",
    "  - Input: $ x = (x_1, x_2, ..., x_n) $ - Input features or values.\n",
    "  - Weighted Sum: $ z = \\sum_{i=1}^{n} w_i \\cdot x_i + b $ - Linear combination of inputs with weights and bias.\n",
    "  - Activation Function: $ a = f(z) $ - Non-linear function applied to the weighted sum.\n",
    "\n",
    "<a title=\"BrunelloN, CC BY-SA 4.0 &lt;https://creativecommons.org/licenses/by-sa/4.0&gt;, via Wikimedia Commons\" href=\"https://commons.wikimedia.org/wiki/File:Example_of_a_deep_neural_network.png\"><img width=\"512\" alt=\"An example of the structure of a deep neural network.\" src=\"https://upload.wikimedia.org/wikipedia/commons/thumb/2/2f/Example_of_a_deep_neural_network.png/512px-Example_of_a_deep_neural_network.png?20210813150620\"></a>"
   ]
  },
  {
   "cell_type": "markdown",
   "id": "68a9e83d",
   "metadata": {},
   "source": [
    "## Why Python?\n",
    "\n",
    "- [https://www.indeed.com/viewjob?jk=38667955752f8d57&from=shareddesktop_copy](https://www.indeed.com/viewjob?jk=38667955752f8d57&from=shareddesktop_copy)\n",
    "- [https://www.indeed.com/viewjob?jk=d876a09728e8a21c&from=shareddesktop_copy](https://www.indeed.com/viewjob?jk=d876a09728e8a21c&from=shareddesktop_copy)\n",
    "- [https://www.indeed.com/viewjob?jk=3eaf03f7179b791c&from=shareddesktop_copy](https://www.indeed.com/viewjob?jk=3eaf03f7179b791c&from=shareddesktop_copy)\n",
    "- [https://www.indeed.com/viewjob?jk=8cc913a6e60fdb12&from=shareddesktop_copy](https://www.indeed.com/viewjob?jk=8cc913a6e60fdb12&from=shareddesktop_copy)\n",
    "- [https://www.indeed.com/viewjob?jk=6be9e463d5db8fe0&from=shareddesktop_copy](https://www.indeed.com/viewjob?jk=6be9e463d5db8fe0&from=shareddesktop_copy)"
   ]
  },
  {
   "cell_type": "code",
   "execution_count": 10,
   "id": "8a37fc3c",
   "metadata": {},
   "outputs": [],
   "source": [
    "# Here is an example neural network in PyTorch\n",
    "\n",
    "class SimpleNN(nn.Module):\n",
    "    def __init__(self, input_size, hidden_size, output_size):\n",
    "        super(SimpleNN, self).__init__()\n",
    "        self.fc1 = nn.Linear(input_size, hidden_size)\n",
    "        self.relu = nn.ReLU()\n",
    "        self.fc2 = nn.Linear(hidden_size, output_size)\n",
    "        self.sigmoid = nn.Sigmoid()\n",
    "\n",
    "    def forward(self, x):\n",
    "        out = self.fc1(x)\n",
    "        out = self.relu(out)\n",
    "        print(out.shape)\n",
    "        out = self.fc2(out)\n",
    "        out = self.sigmoid(out)\n",
    "        return out"
   ]
  },
  {
   "cell_type": "code",
   "execution_count": 11,
   "id": "09017a28",
   "metadata": {},
   "outputs": [
    {
     "data": {
      "text/plain": [
       "True"
      ]
     },
     "execution_count": 11,
     "metadata": {},
     "output_type": "execute_result"
    }
   ],
   "source": [
    "torch.cuda.is_available()"
   ]
  },
  {
   "cell_type": "code",
   "execution_count": 12,
   "id": "2f60a64e",
   "metadata": {},
   "outputs": [],
   "source": [
    "import rpy2\n",
    "import rpy2.rinterface"
   ]
  },
  {
   "cell_type": "code",
   "execution_count": 13,
   "id": "f3210d59",
   "metadata": {},
   "outputs": [
    {
     "name": "stderr",
     "output_type": "stream",
     "text": [
      "c:\\Users\\cd-desk\\AppData\\Local\\Programs\\Python\\Python312\\Lib\\site-packages\\rpy2\\robjects\\packages.py:367: UserWarning: The symbol 'quartz' is not in this R namespace/package.\n",
      "  warnings.warn(\n"
     ]
    }
   ],
   "source": [
    "%load_ext rpy2.ipython"
   ]
  },
  {
   "cell_type": "code",
   "execution_count": 14,
   "id": "9c025c69",
   "metadata": {},
   "outputs": [
    {
     "data": {
      "text/plain": [
       "In addition: Warning messages:\n",
       "1: package 'torch' was built under R version 4.4.3 \n",
       "2: i torch failed to start, restart your R session to try again.\n",
       "i You might need to reinstall torch using `install_torch()`\n",
       "x C:\\Users\\cd-desk\\AppData\\Local\\R\\win-library\\4.4\\torch/lib\\lantern.dll - The\n",
       "  specified procedure could not be found.\n",
       "Caused by error in `cpp_lantern_init()`:\n",
       "! C:\\Users\\cd-desk\\AppData\\Local\\R\\win-library\\4.4\\torch/lib\\lantern.dll - The specified procedure could not be found.\r \n"
      ]
     },
     "metadata": {},
     "output_type": "display_data"
    }
   ],
   "source": [
    "%%R\n",
    "library(torch)\n",
    "\n",
    "# Define the neural network class\n",
    "SimpleNN <- nn_module(\n",
    "  initialize = function(input_size, hidden_size, output_size) {\n",
    "    self$fc1 <- nn_linear(input_size, hidden_size)\n",
    "    self$relu <- nn_relu()\n",
    "    self$fc2 <- nn_linear(hidden_size, output_size)\n",
    "    self$sigmoid <- nn_sigmoid()\n",
    "  },\n",
    "  \n",
    "  forward = function(x) {\n",
    "    out <- self$fc1(x)\n",
    "    out <- self$relu(out)\n",
    "    print(dim(out))\n",
    "    out <- self$fc2(out)\n",
    "    out <- self$sigmoid(out)\n",
    "    out\n",
    "  }\n",
    ")"
   ]
  },
  {
   "cell_type": "markdown",
   "id": "e9fa391b",
   "metadata": {},
   "source": [
    "# Motivation for Using Neural Networks\n",
    "\n",
    "- **Universal Approximation Theorem (UAT):**\n",
    "  - The UAT states that a feed-forward neural network with a single hidden layer and a non-linear activation function can approximate any continuous function to arbitrary accuracy given enough neurons in the hidden layer.\n",
    "  - This theorem highlights the expressive power of neural networks in capturing complex relationships and functions.\n",
    "\n",
    "- **Key Points:**\n",
    "  - Neural networks with non-linear activation functions can learn and represent highly nonlinear and intricate mappings between inputs and outputs.\n",
    "  - The flexibility and adaptability of neural networks make them suitable for a wide range of tasks, including regression and classification.\n",
    "  - The number of neurons in the hidden layer and the choice of activation function play crucial roles in the network's capacity to approximate complex functions.\n",
    "\n"
   ]
  },
  {
   "cell_type": "markdown",
   "id": "a02a58eb",
   "metadata": {},
   "source": [
    "# Training Neural Networks\n",
    "\n",
    "- **Training Process Overview:**\n",
    "  - Initialize all parameter values to small random numbers.\n",
    "  - Forward Pass:\n",
    "    - Input data is passed through the network, and computations are performed layer by layer.\n",
    "    - Activation functions introduce non-linearity into the model.\n",
    "  \n",
    "  - Loss Calculation:\n",
    "    - The output of the network is compared to the target values using a loss function (more or less error).\n",
    "    - Common loss functions include Mean Squared Error (MSE), Cross Entropy Loss, etc.\n",
    "  \n",
    "  - Backward Pass (Gradient Descent):\n",
    "    - Gradients of the loss function with respect to the model parameters are computed using backpropagation.\n",
    "    - Optimizers update the model parameters (weights and biases) to minimize the loss.\n",
    "\n",
    "  - Update Weights and Biases:\n",
    "    - Optimizers like SGD, Adam, RMSProp, etc., adjust the model parameters based on computed gradients and learning rate.\n"
   ]
  },
  {
   "cell_type": "code",
   "execution_count": 15,
   "id": "cde5f4e0",
   "metadata": {},
   "outputs": [
    {
     "name": "stdout",
     "output_type": "stream",
     "text": [
      "torch.Size([32, 10])\n",
      "torch.Size([32, 10])\n",
      "torch.Size([32, 10])\n",
      "torch.Size([24, 10])\n",
      "torch.Size([32, 10])\n",
      "torch.Size([32, 10])\n",
      "torch.Size([32, 10])\n",
      "torch.Size([24, 10])\n",
      "torch.Size([32, 10])\n",
      "torch.Size([32, 10])\n",
      "torch.Size([32, 10])\n",
      "torch.Size([24, 10])\n",
      "torch.Size([32, 10])\n",
      "torch.Size([32, 10])\n",
      "torch.Size([32, 10])\n",
      "torch.Size([24, 10])\n",
      "torch.Size([32, 10])\n",
      "torch.Size([32, 10])\n",
      "torch.Size([32, 10])\n",
      "torch.Size([24, 10])\n",
      "torch.Size([32, 10])\n",
      "torch.Size([32, 10])\n",
      "torch.Size([32, 10])\n",
      "torch.Size([24, 10])\n",
      "torch.Size([32, 10])\n",
      "torch.Size([32, 10])\n",
      "torch.Size([32, 10])\n",
      "torch.Size([24, 10])\n",
      "torch.Size([32, 10])\n",
      "torch.Size([32, 10])\n",
      "torch.Size([32, 10])\n",
      "torch.Size([24, 10])\n",
      "torch.Size([32, 10])\n",
      "torch.Size([32, 10])\n",
      "torch.Size([32, 10])\n",
      "torch.Size([24, 10])\n",
      "torch.Size([32, 10])\n",
      "torch.Size([32, 10])\n",
      "torch.Size([32, 10])\n",
      "torch.Size([24, 10])\n"
     ]
    }
   ],
   "source": [
    "iris = load_iris()\n",
    "X = iris.data\n",
    "y = iris.target\n",
    "\n",
    "# Standardize the features\n",
    "scaler = StandardScaler()\n",
    "X = scaler.fit_transform(X)\n",
    "\n",
    "# Split the data into train and test sets\n",
    "X_train, X_test, y_train, y_test = train_test_split(X, y, test_size=0.2, random_state=42)\n",
    "\n",
    "# Convert to PyTorch tensors\n",
    "X_train = torch.tensor(X_train, dtype=torch.float32)\n",
    "y_train = torch.tensor(y_train, dtype=torch.long)\n",
    "X_test = torch.tensor(X_test, dtype=torch.float32)\n",
    "y_test = torch.tensor(y_test, dtype=torch.long)\n",
    "\n",
    "# Create TensorDataset and DataLoader\n",
    "train_dataset = TensorDataset(X_train, y_train)\n",
    "train_loader = DataLoader(train_dataset, batch_size=32, shuffle=True)\n",
    "\n",
    "model = SimpleNN(input_size=4, hidden_size=10, output_size=3)\n",
    "\n",
    "# Define the loss function and optimizer\n",
    "criterion = nn.CrossEntropyLoss()\n",
    "optimizer = optim.SGD(model.parameters(), lr=0.01)\n",
    "\n",
    "# Training loop\n",
    "num_epochs = 10\n",
    "\n",
    "for epoch in range(num_epochs):\n",
    "\n",
    "    # Iterate over the batches in the training DataLoader\n",
    "    for inputs, targets in train_loader:\n",
    "        optimizer.zero_grad()  # Zero the gradients from previous step\n",
    "\n",
    "        # Forward pass\n",
    "        outputs = model(inputs)\n",
    "\n",
    "        # Compute the loss\n",
    "        loss = criterion(outputs, targets)\n",
    "\n",
    "        # Backward pass and optimization\n",
    "        loss.backward()  # Compute gradients\n",
    "        optimizer.step()  # Update model parameters"
   ]
  },
  {
   "cell_type": "code",
   "execution_count": 16,
   "id": "acfb9b93",
   "metadata": {},
   "outputs": [
    {
     "name": "stdout",
     "output_type": "stream",
     "text": [
      "torch.Size([30, 10])\n",
      "Predicted labels: [1 2 1 1 1 2 1 1 1 1 1 2 2 2 2 1 1 1 1 1 2 1 2 1 1 1 1 1 2 2]\n",
      "Reference labels: [1 0 2 1 1 0 1 2 1 1 2 0 0 0 0 1 2 1 1 2 0 2 0 2 2 2 2 2 0 0]\n",
      "~Random guessing: [0 1 0 2 0 2 0 2 2 2 0 1 0 2 1 1 0 0 0 2 2 2 1 0 0 1 0 2 1 1]\n"
     ]
    }
   ],
   "source": [
    "with torch.no_grad():  # Disable gradient calculation\n",
    "    test_outputs = model(X_test)\n",
    "    _, predicted = torch.max(test_outputs, 1)  # Get the class with the highest score\n",
    "\n",
    "# Print the predictions\n",
    "rand = np.random.choice(np.unique(y_test.numpy()), size=len(y_test), replace=True)\n",
    "print(\"Predicted labels:\", predicted.numpy())\n",
    "print(\"Reference labels:\", y_test.numpy())\n",
    "print(\"~Random guessing:\", rand)"
   ]
  },
  {
   "cell_type": "code",
   "execution_count": 17,
   "id": "c18d4e5a",
   "metadata": {},
   "outputs": [
    {
     "data": {
      "text/plain": [
       "(np.int64(9), np.int64(6), 30)"
      ]
     },
     "execution_count": 17,
     "metadata": {},
     "output_type": "execute_result"
    }
   ],
   "source": [
    "sum(predicted.numpy() == y_test.numpy()), sum(rand == y_test.numpy()), len(predicted) # Count correct predictions"
   ]
  },
  {
   "cell_type": "markdown",
   "id": "b3e7023a",
   "metadata": {},
   "source": [
    "# Practical Applications of Neural Networks\n",
    "\n",
    "- **Image Classification:**\n",
    "  - Identifying objects, scenes, or patterns within images.\n",
    "  - Applications in healthcare, autonomous vehicles, security, etc.\n",
    "\n",
    "- **Natural Language Processing (NLP):**\n",
    "  - Text analysis, sentiment analysis, language translation, chatbots, etc.\n",
    "  - Used in social media, customer support, content generation, etc.\n",
    "\n",
    "- **Medical Diagnosis:**\n",
    "  - Disease diagnosis, medical imaging analysis, patient monitoring, drug discovery, etc.\n",
    "  - Improving healthcare outcomes and decision-making.\n"
   ]
  },
  {
   "cell_type": "code",
   "execution_count": 18,
   "id": "34c606a3",
   "metadata": {},
   "outputs": [],
   "source": [
    "import torch\n",
    "import torch.nn as nn\n",
    "import torch.optim as optim\n",
    "from sklearn.preprocessing import StandardScaler\n",
    "import matplotlib.pyplot as plt"
   ]
  },
  {
   "cell_type": "code",
   "execution_count": 19,
   "id": "08b15733",
   "metadata": {},
   "outputs": [],
   "source": [
    "# Input features (temperature in Celsius)\n",
    "t_c = [0.5, 14.0, 15.0, 28.0, 11.0, 8.0, 3.0, -4.0, 6.0, 13.0, 21.0]\n",
    "x = torch.tensor(t_c).view(-1, 1)  # Reshape to a 2D tensor with 11 rows and 1 column\n",
    "\n",
    "# Target values (temperature in Fahrenheit)\n",
    "t_u = [35.7, 55.9, 58.2, 81.9, 56.3, 48.9, 33.9, 21.8, 48.4, 60.4, 68.4]\n",
    "y = torch.tensor(t_u).view(-1, 1)  # Reshape to a 2D tensor with 11 rows and 1 column"
   ]
  },
  {
   "cell_type": "code",
   "execution_count": 20,
   "id": "7d92af5c",
   "metadata": {},
   "outputs": [
    {
     "data": {
      "image/png": "[encoded data removed]",
      "text/plain": [
       "<Figure size 640x480 with 1 Axes>"
      ]
     },
     "metadata": {},
     "output_type": "display_data"
    }
   ],
   "source": [
    "plt.scatter(t_c, t_u);"
   ]
  },
  {
   "cell_type": "code",
   "execution_count": 21,
   "id": "cffb9186",
   "metadata": {},
   "outputs": [],
   "source": [
    "# Data normalization\n",
    "scaler_x = StandardScaler()\n",
    "scaler_y = StandardScaler()\n",
    "x_normalized = scaler_x.fit_transform(x.float())\n",
    "y_normalized = scaler_y.fit_transform(y.float())"
   ]
  },
  {
   "cell_type": "code",
   "execution_count": 22,
   "id": "4d8a028c",
   "metadata": {},
   "outputs": [],
   "source": [
    "class LinearNet(nn.Module):\n",
    "    def __init__(self, input_size, output_size):\n",
    "        super(LinearNet, self).__init__()\n",
    "        self.lin_coeffs = nn.Linear(input_size, output_size)\n",
    "\n",
    "\n",
    "    def forward(self, x):\n",
    "        x = self.lin_coeffs(x)\n",
    "        return x\n",
    "\n",
    "\n",
    "# Define a simple linear regression model\n",
    "class LinearRegression(nn.Module):\n",
    "    def __init__(self):\n",
    "        super(LinearRegression, self).__init__()\n",
    "        self.linear = nn.Linear(1, 1)  # One input feature, one output\n",
    "\n",
    "    def forward(self, x):\n",
    "        return self.linear(x)"
   ]
  },
  {
   "cell_type": "code",
   "execution_count": 23,
   "id": "85539e76",
   "metadata": {},
   "outputs": [],
   "source": [
    "# Instantiate the linear regression model, loss function, and optimizer\n",
    "model = LinearNet(1,1)\n",
    "criterion = nn.MSELoss()  # Mean Squared Error loss\n",
    "optimizer = optim.SGD(model.parameters(), lr=0.001)"
   ]
  },
  {
   "cell_type": "code",
   "execution_count": 24,
   "id": "bfbc1cfe",
   "metadata": {},
   "outputs": [
    {
     "name": "stdout",
     "output_type": "stream",
     "text": [
      "Epoch 1, Loss: 2.106748580932617\n",
      "OrderedDict({'lin_coeffs.weight': tensor([[-0.4010]]), 'lin_coeffs.bias': tensor([0.3991])})\n",
      "Epoch 101, Loss: 1.4241530895233154\n",
      "OrderedDict({'lin_coeffs.weight': tensor([[-0.1503]]), 'lin_coeffs.bias': tensor([0.3267])})\n",
      "Epoch 201, Loss: 0.9667789936065674\n",
      "OrderedDict({'lin_coeffs.weight': tensor([[0.0549]]), 'lin_coeffs.bias': tensor([0.2674])})\n",
      "Epoch 301, Loss: 0.6603147387504578\n",
      "OrderedDict({'lin_coeffs.weight': tensor([[0.2229]]), 'lin_coeffs.bias': tensor([0.2189])})\n",
      "Epoch 401, Loss: 0.4549678564071655\n",
      "OrderedDict({'lin_coeffs.weight': tensor([[0.3604]]), 'lin_coeffs.bias': tensor([0.1792])})\n",
      "Epoch 501, Loss: 0.3173748254776001\n",
      "OrderedDict({'lin_coeffs.weight': tensor([[0.4730]]), 'lin_coeffs.bias': tensor([0.1467])})\n",
      "Epoch 601, Loss: 0.22518032789230347\n",
      "OrderedDict({'lin_coeffs.weight': tensor([[0.5651]]), 'lin_coeffs.bias': tensor([0.1201])})\n",
      "Epoch 701, Loss: 0.16340528428554535\n",
      "OrderedDict({'lin_coeffs.weight': tensor([[0.6406]]), 'lin_coeffs.bias': tensor([0.0983])})\n",
      "Epoch 801, Loss: 0.1220129206776619\n",
      "OrderedDict({'lin_coeffs.weight': tensor([[0.7023]]), 'lin_coeffs.bias': tensor([0.0804])})\n",
      "Epoch 901, Loss: 0.09427792578935623\n",
      "OrderedDict({'lin_coeffs.weight': tensor([[0.7528]]), 'lin_coeffs.bias': tensor([0.0659])})\n",
      "Final Model Parameters: OrderedDict({'lin_coeffs.weight': tensor([[0.7942]]), 'lin_coeffs.bias': tensor([0.0539])})\n"
     ]
    }
   ],
   "source": [
    "# Training loop\n",
    "num_epochs = 1000\n",
    "for epoch in range(num_epochs):\n",
    "    # Forward pass: compute predicted y by passing x to the model\n",
    "    y_pred = model(torch.tensor(x_normalized, dtype=torch.float32))\n",
    "\n",
    "    # Compute and print loss\n",
    "    loss = criterion(y_pred, torch.tensor(y_normalized, dtype=torch.float32))\n",
    "    if epoch % 100 == 0:\n",
    "        print(f'Epoch {epoch + 1}, Loss: {loss.item()}')\n",
    "        print(model.state_dict())\n",
    "\n",
    "    # Zero gradients, perform a backward pass, and update weights\n",
    "    optimizer.zero_grad()\n",
    "    loss.backward()\n",
    "    optimizer.step()\n",
    "\n",
    "# After training, print the final model parameters\n",
    "print(f'Final Model Parameters: {model.state_dict()}')"
   ]
  },
  {
   "cell_type": "code",
   "execution_count": 25,
   "id": "093efd1e",
   "metadata": {},
   "outputs": [
    {
     "data": {
      "text/plain": [
       "array([16.04861968])"
      ]
     },
     "execution_count": 25,
     "metadata": {},
     "output_type": "execute_result"
    }
   ],
   "source": [
    "scaler_y.scale_"
   ]
  },
  {
   "cell_type": "code",
   "execution_count": 26,
   "id": "195f04cf",
   "metadata": {},
   "outputs": [
    {
     "data": {
      "text/plain": [
       "8.225981999999998"
      ]
     },
     "execution_count": 26,
     "metadata": {},
     "output_type": "execute_result"
    }
   ],
   "source": [
    "8.78*0.9369"
   ]
  },
  {
   "cell_type": "markdown",
   "id": "743730d9",
   "metadata": {},
   "source": [
    "### Penguins\n",
    "\n"
   ]
  },
  {
   "cell_type": "code",
   "execution_count": 27,
   "id": "a98d0333",
   "metadata": {},
   "outputs": [],
   "source": [
    "import seaborn as sns\n",
    "import pandas as pd\n",
    "from sklearn.preprocessing import OneHotEncoder, LabelEncoder\n",
    "from torch.utils.data import Dataset, DataLoader\n",
    "from sklearn.model_selection import train_test_split"
   ]
  },
  {
   "cell_type": "code",
   "execution_count": 28,
   "id": "96bbcd24",
   "metadata": {},
   "outputs": [],
   "source": [
    "penguins = sns.load_dataset(\"penguins\")\n",
    "\n",
    "penguins = penguins.dropna()"
   ]
  },
  {
   "cell_type": "code",
   "execution_count": 29,
   "id": "f0ceaa80",
   "metadata": {},
   "outputs": [
    {
     "data": {
      "text/html": [
       "<div>\n",
       "<style scoped>\n",
       "    .dataframe tbody tr th:only-of-type {\n",
       "        vertical-align: middle;\n",
       "    }\n",
       "\n",
       "    .dataframe tbody tr th {\n",
       "        vertical-align: top;\n",
       "    }\n",
       "\n",
       "    .dataframe thead th {\n",
       "        text-align: right;\n",
       "    }\n",
       "</style>\n",
       "<table border=\"1\" class=\"dataframe\">\n",
       "  <thead>\n",
       "    <tr style=\"text-align: right;\">\n",
       "      <th></th>\n",
       "      <th>species</th>\n",
       "      <th>island</th>\n",
       "      <th>bill_length_mm</th>\n",
       "      <th>bill_depth_mm</th>\n",
       "      <th>flipper_length_mm</th>\n",
       "      <th>body_mass_g</th>\n",
       "      <th>sex</th>\n",
       "    </tr>\n",
       "  </thead>\n",
       "  <tbody>\n",
       "    <tr>\n",
       "      <th>0</th>\n",
       "      <td>Adelie</td>\n",
       "      <td>Torgersen</td>\n",
       "      <td>39.1</td>\n",
       "      <td>18.7</td>\n",
       "      <td>181.0</td>\n",
       "      <td>3750.0</td>\n",
       "      <td>Male</td>\n",
       "    </tr>\n",
       "    <tr>\n",
       "      <th>1</th>\n",
       "      <td>Adelie</td>\n",
       "      <td>Torgersen</td>\n",
       "      <td>39.5</td>\n",
       "      <td>17.4</td>\n",
       "      <td>186.0</td>\n",
       "      <td>3800.0</td>\n",
       "      <td>Female</td>\n",
       "    </tr>\n",
       "    <tr>\n",
       "      <th>2</th>\n",
       "      <td>Adelie</td>\n",
       "      <td>Torgersen</td>\n",
       "      <td>40.3</td>\n",
       "      <td>18.0</td>\n",
       "      <td>195.0</td>\n",
       "      <td>3250.0</td>\n",
       "      <td>Female</td>\n",
       "    </tr>\n",
       "    <tr>\n",
       "      <th>4</th>\n",
       "      <td>Adelie</td>\n",
       "      <td>Torgersen</td>\n",
       "      <td>36.7</td>\n",
       "      <td>19.3</td>\n",
       "      <td>193.0</td>\n",
       "      <td>3450.0</td>\n",
       "      <td>Female</td>\n",
       "    </tr>\n",
       "    <tr>\n",
       "      <th>5</th>\n",
       "      <td>Adelie</td>\n",
       "      <td>Torgersen</td>\n",
       "      <td>39.3</td>\n",
       "      <td>20.6</td>\n",
       "      <td>190.0</td>\n",
       "      <td>3650.0</td>\n",
       "      <td>Male</td>\n",
       "    </tr>\n",
       "  </tbody>\n",
       "</table>\n",
       "</div>"
      ],
      "text/plain": [
       "  species     island  bill_length_mm  bill_depth_mm  flipper_length_mm  \\\n",
       "0  Adelie  Torgersen            39.1           18.7              181.0   \n",
       "1  Adelie  Torgersen            39.5           17.4              186.0   \n",
       "2  Adelie  Torgersen            40.3           18.0              195.0   \n",
       "4  Adelie  Torgersen            36.7           19.3              193.0   \n",
       "5  Adelie  Torgersen            39.3           20.6              190.0   \n",
       "\n",
       "   body_mass_g     sex  \n",
       "0       3750.0    Male  \n",
       "1       3800.0  Female  \n",
       "2       3250.0  Female  \n",
       "4       3450.0  Female  \n",
       "5       3650.0    Male  "
      ]
     },
     "execution_count": 29,
     "metadata": {},
     "output_type": "execute_result"
    }
   ],
   "source": [
    "penguins.head()"
   ]
  },
  {
   "cell_type": "code",
   "execution_count": 30,
   "id": "7534dd58",
   "metadata": {},
   "outputs": [
    {
     "data": {
      "text/plain": [
       "(333, 7)"
      ]
     },
     "execution_count": 30,
     "metadata": {},
     "output_type": "execute_result"
    }
   ],
   "source": [
    "penguins.shape"
   ]
  },
  {
   "cell_type": "code",
   "execution_count": 31,
   "id": "a213a96d",
   "metadata": {},
   "outputs": [],
   "source": [
    "label_encoder = LabelEncoder()\n",
    "penguins['species_encoded'] = label_encoder.fit_transform(penguins['species'])"
   ]
  },
  {
   "cell_type": "code",
   "execution_count": 32,
   "id": "892526f8",
   "metadata": {},
   "outputs": [],
   "source": [
    "class PenguinDataset(Dataset):\n",
    "    def __init__(self, data):\n",
    "        self.X = data[['bill_length_mm', 'bill_depth_mm', 'flipper_length_mm', 'body_mass_g']].values\n",
    "        self.y = data['species_encoded'].values # DONT FORGET .VALUES\n",
    "        self.n_samples = len(data)\n",
    "\n",
    "    def __getitem__(self, index):\n",
    "        return torch.tensor(self.X[index], dtype=torch.float32), torch.tensor(self.y[index], dtype=torch.int64)\n",
    "\n",
    "    def __len__(self):\n",
    "        return self.n_samples"
   ]
  },
  {
   "cell_type": "code",
   "execution_count": 33,
   "id": "dd208d83",
   "metadata": {},
   "outputs": [],
   "source": [
    "train_data, test_data = train_test_split(penguins, test_size=0.2, random_state=97301)\n",
    "\n",
    "train_dataset = PenguinDataset(train_data)\n",
    "test_dataset = PenguinDataset(test_data)\n",
    "\n",
    "train_loader = DataLoader(dataset=train_dataset, batch_size=16, shuffle=True)\n",
    "test_loader = DataLoader(dataset=test_dataset, batch_size=16, shuffle=False)"
   ]
  },
  {
   "cell_type": "code",
   "execution_count": 34,
   "id": "a262195e",
   "metadata": {},
   "outputs": [
    {
     "data": {
      "text/plain": [
       "(tensor([  36.7000,   19.3000,  193.0000, 3450.0000]), tensor(0))"
      ]
     },
     "execution_count": 34,
     "metadata": {},
     "output_type": "execute_result"
    }
   ],
   "source": [
    "train_dataset.__getitem__(5)"
   ]
  },
  {
   "cell_type": "code",
   "execution_count": 35,
   "id": "02635d72",
   "metadata": {},
   "outputs": [],
   "source": [
    "class SimpleNN(nn.Module):\n",
    "    def __init__(self, input_size, hidden_size, num_classes):\n",
    "        super(SimpleNN, self).__init__()\n",
    "        self.fc1 = nn.Linear(input_size, hidden_size)\n",
    "        self.relu = nn.ReLU()\n",
    "        self.fc2 = nn.Linear(hidden_size, num_classes)\n",
    "\n",
    "    def forward(self, x):\n",
    "        out = self.fc1(x)\n",
    "        out = self.relu(out)\n",
    "        out = self.fc2(out)\n",
    "        return out"
   ]
  },
  {
   "cell_type": "code",
   "execution_count": 36,
   "id": "9e734c79",
   "metadata": {},
   "outputs": [],
   "source": [
    "input_size = 4  # Number of features\n",
    "hidden_size = 64  # Size of the hidden layer\n",
    "num_classes = len(label_encoder.classes_)\n",
    "learning_rate = 0.001"
   ]
  },
  {
   "cell_type": "code",
   "execution_count": 37,
   "id": "40492de0",
   "metadata": {},
   "outputs": [
    {
     "data": {
      "text/plain": [
       "3"
      ]
     },
     "execution_count": 37,
     "metadata": {},
     "output_type": "execute_result"
    }
   ],
   "source": [
    "num_classes"
   ]
  },
  {
   "cell_type": "code",
   "execution_count": 38,
   "id": "023f5b02",
   "metadata": {},
   "outputs": [],
   "source": [
    "model = SimpleNN(input_size, hidden_size, num_classes)\n",
    "criterion = nn.CrossEntropyLoss()\n",
    "optimizer = optim.Adam(model.parameters(), lr=learning_rate)"
   ]
  },
  {
   "cell_type": "code",
   "execution_count": 39,
   "id": "d6219272",
   "metadata": {},
   "outputs": [
    {
     "name": "stdout",
     "output_type": "stream",
     "text": [
      "Epoch 1/10, Loss: 256.6689\n",
      "Epoch 2/10, Loss: 56.5208\n",
      "Epoch 3/10, Loss: 20.3136\n",
      "Epoch 4/10, Loss: 10.1350\n",
      "Epoch 5/10, Loss: 9.8483\n",
      "Epoch 6/10, Loss: 11.7395\n",
      "Epoch 7/10, Loss: 6.6724\n",
      "Epoch 8/10, Loss: 5.6617\n",
      "Epoch 9/10, Loss: 6.3352\n",
      "Epoch 10/10, Loss: 6.1882\n"
     ]
    }
   ],
   "source": [
    "# Training loop\n",
    "num_epochs = 10\n",
    "\n",
    "for epoch in range(num_epochs):\n",
    "    model.train()\n",
    "    running_loss = 0.0\n",
    "    for inputs, targets in train_loader:\n",
    "        optimizer.zero_grad()\n",
    "        outputs = model(inputs)\n",
    "        loss = criterion(outputs, targets)\n",
    "        loss.backward()\n",
    "        optimizer.step()\n",
    "        running_loss += loss.item()\n",
    "    epoch_loss = running_loss / len(train_loader)\n",
    "    print(f\"Epoch {epoch+1}/{num_epochs}, Loss: {epoch_loss:.4f}\")\n"
   ]
  },
  {
   "cell_type": "code",
   "execution_count": 40,
   "id": "3f570bbb",
   "metadata": {},
   "outputs": [
    {
     "name": "stdout",
     "output_type": "stream",
     "text": [
      "Accuracy on test set: 43.28%\n"
     ]
    }
   ],
   "source": [
    "# Evaluation on the test set\n",
    "model.eval()\n",
    "correct = 0\n",
    "total = 0\n",
    "\n",
    "# might be worth picking this apart line by line...\n",
    "with torch.no_grad():\n",
    "    for inputs, targets in test_loader:\n",
    "        outputs = model(inputs)\n",
    "        _, predicted = torch.max(outputs.data, 1)\n",
    "        total += targets.size(0)\n",
    "        correct += (predicted == targets).sum().item()\n",
    "\n",
    "accuracy = correct / total\n",
    "print(f\"Accuracy on test set: {accuracy:.2%}\")"
   ]
  },
  {
   "cell_type": "markdown",
   "id": "4ae4e00f",
   "metadata": {},
   "source": [
    "Well that was awful. Before we fix it..."
   ]
  },
  {
   "cell_type": "code",
   "execution_count": 41,
   "id": "6cc26cba",
   "metadata": {},
   "outputs": [
    {
     "name": "stdout",
     "output_type": "stream",
     "text": [
      "tensor([[  35.5000,   16.2000,  195.0000, 3350.0000],\n",
      "        [  34.0000,   17.1000,  185.0000, 3400.0000],\n",
      "        [  49.2000,   15.2000,  221.0000, 6300.0000]])\n",
      "tensor([[ 636.6671,  634.6541,  637.5727],\n",
      "        [ 645.9810,  643.4651,  645.5684],\n",
      "        [1192.1962, 1182.4634, 1181.7388]])\n",
      "tensor([2, 0, 0])\n",
      "\n",
      "\n",
      "\n",
      "\n",
      "tensor([[  35.5000,   16.2000,  195.0000, 3350.0000],\n",
      "        [  34.0000,   17.1000,  185.0000, 3400.0000],\n",
      "        [  49.2000,   15.2000,  221.0000, 6300.0000]])\n",
      "tensor([[ 636.6671,  634.6541,  637.5727],\n",
      "        [ 645.9810,  643.4651,  645.5684],\n",
      "        [1192.1962, 1182.4634, 1181.7388]])\n",
      "tensor([2, 0, 0])\n",
      "\n",
      "\n",
      "\n",
      "\n",
      "tensor([[  35.5000,   16.2000,  195.0000, 3350.0000],\n",
      "        [  34.0000,   17.1000,  185.0000, 3400.0000],\n",
      "        [  49.2000,   15.2000,  221.0000, 6300.0000]])\n",
      "tensor([[ 636.6671,  634.6541,  637.5727],\n",
      "        [ 645.9810,  643.4651,  645.5684],\n",
      "        [1192.1962, 1182.4634, 1181.7388]])\n",
      "tensor([2, 0, 0])\n",
      "\n",
      "\n",
      "\n",
      "\n"
     ]
    }
   ],
   "source": [
    "num_batches_to_iterate = 3  # Specify the number of batches you want to iterate through\n",
    "\n",
    "with torch.no_grad():\n",
    "    for batch_idx, batch in enumerate(test_loader):\n",
    "        if batch_idx >= num_batches_to_iterate:\n",
    "            break\n",
    "        outputs = model(inputs)\n",
    "        print(inputs)\n",
    "        print(outputs)\n",
    "        _, predicted = torch.max(outputs.data, 1)\n",
    "        print(predicted)\n",
    "        print('\\n\\n\\n')"
   ]
  },
  {
   "cell_type": "code",
   "execution_count": 42,
   "id": "7093a9a4",
   "metadata": {},
   "outputs": [],
   "source": [
    "from sklearn.preprocessing import StandardScaler\n",
    "\n",
    "scaler = StandardScaler()\n",
    "scaled_features = scaler.fit_transform(penguins[['bill_length_mm', 'bill_depth_mm', 'flipper_length_mm', 'body_mass_g']])\n",
    "penguins[['bill_length_mm', 'bill_depth_mm', 'flipper_length_mm', 'body_mass_g']] = scaled_features\n"
   ]
  },
  {
   "cell_type": "code",
   "execution_count": 43,
   "id": "6bc6cd3b",
   "metadata": {},
   "outputs": [],
   "source": [
    "train_data, test_data = train_test_split(penguins, test_size=0.2, random_state=12345)\n",
    "\n",
    "train_dataset = PenguinDataset(train_data)\n",
    "test_dataset = PenguinDataset(test_data)\n",
    "\n",
    "train_loader = DataLoader(dataset=train_dataset, batch_size=16, shuffle=True)\n",
    "test_loader = DataLoader(dataset=test_dataset, batch_size=16, shuffle=False)\n",
    "\n",
    "\n",
    "model = SimpleNN(input_size, hidden_size, num_classes)\n",
    "criterion = nn.CrossEntropyLoss()\n",
    "optimizer = optim.Adam(model.parameters(), lr=learning_rate)"
   ]
  },
  {
   "cell_type": "code",
   "execution_count": 44,
   "id": "abd1ba88",
   "metadata": {},
   "outputs": [
    {
     "name": "stdout",
     "output_type": "stream",
     "text": [
      "Epoch 1/10, Loss: 1.0034\n",
      "Epoch 2/10, Loss: 0.7833\n",
      "Epoch 3/10, Loss: 0.6128\n",
      "Epoch 4/10, Loss: 0.4949\n",
      "Epoch 5/10, Loss: 0.3995\n",
      "Epoch 6/10, Loss: 0.3347\n",
      "Epoch 7/10, Loss: 0.2778\n",
      "Epoch 8/10, Loss: 0.2354\n",
      "Epoch 9/10, Loss: 0.1982\n",
      "Epoch 10/10, Loss: 0.1719\n"
     ]
    }
   ],
   "source": [
    "# Training loop\n",
    "num_epochs = 10\n",
    "\n",
    "for epoch in range(num_epochs):\n",
    "    model.train()\n",
    "    running_loss = 0.0\n",
    "    for inputs, targets in train_loader:\n",
    "        optimizer.zero_grad()\n",
    "        outputs = model(inputs)\n",
    "        loss = criterion(outputs, targets)\n",
    "        loss.backward()\n",
    "        optimizer.step()\n",
    "        running_loss += loss.item()\n",
    "    epoch_loss = running_loss / len(train_loader)\n",
    "    print(f\"Epoch {epoch+1}/{num_epochs}, Loss: {epoch_loss:.4f}\")\n"
   ]
  },
  {
   "cell_type": "code",
   "execution_count": 45,
   "id": "05745909",
   "metadata": {},
   "outputs": [
    {
     "name": "stdout",
     "output_type": "stream",
     "text": [
      "Accuracy on test set: 97.01%\n"
     ]
    }
   ],
   "source": [
    "# Evaluation on the test set\n",
    "model.eval()\n",
    "correct = 0\n",
    "total = 0\n",
    "\n",
    "with torch.no_grad():\n",
    "    for inputs, targets in test_loader:\n",
    "        outputs = model(inputs)\n",
    "        _, predicted = torch.max(outputs.data, 1)\n",
    "        total += targets.size(0)\n",
    "        correct += (predicted == targets).sum().item()\n",
    "\n",
    "accuracy = correct / total\n",
    "print(f\"Accuracy on test set: {accuracy:.2%}\")"
   ]
  },
  {
   "cell_type": "markdown",
   "id": "88c810cf",
   "metadata": {},
   "source": [
    "How striking!"
   ]
  },
  {
   "cell_type": "markdown",
   "id": "712e12bf",
   "metadata": {},
   "source": [
    "### Exercise: the titanic"
   ]
  },
  {
   "cell_type": "code",
   "execution_count": 46,
   "id": "2ba7b259",
   "metadata": {},
   "outputs": [],
   "source": [
    "\n",
    "# Load the Titanic dataset\n",
    "url = \"https://web.stanford.edu/class/archive/cs/cs109/cs109.1166/stuff/titanic.csv\"\n",
    "titanic_df = pd.read_csv(url)\n",
    "\n",
    "# Drop rows with missing values for simplicity\n",
    "titanic_df = titanic_df.dropna()"
   ]
  },
  {
   "cell_type": "code",
   "execution_count": 47,
   "id": "b0bb8531",
   "metadata": {},
   "outputs": [
    {
     "data": {
      "text/html": [
       "<div>\n",
       "<style scoped>\n",
       "    .dataframe tbody tr th:only-of-type {\n",
       "        vertical-align: middle;\n",
       "    }\n",
       "\n",
       "    .dataframe tbody tr th {\n",
       "        vertical-align: top;\n",
       "    }\n",
       "\n",
       "    .dataframe thead th {\n",
       "        text-align: right;\n",
       "    }\n",
       "</style>\n",
       "<table border=\"1\" class=\"dataframe\">\n",
       "  <thead>\n",
       "    <tr style=\"text-align: right;\">\n",
       "      <th></th>\n",
       "      <th>Survived</th>\n",
       "      <th>Pclass</th>\n",
       "      <th>Name</th>\n",
       "      <th>Sex</th>\n",
       "      <th>Age</th>\n",
       "      <th>Siblings/Spouses Aboard</th>\n",
       "      <th>Parents/Children Aboard</th>\n",
       "      <th>Fare</th>\n",
       "    </tr>\n",
       "  </thead>\n",
       "  <tbody>\n",
       "    <tr>\n",
       "      <th>0</th>\n",
       "      <td>0</td>\n",
       "      <td>3</td>\n",
       "      <td>Mr. Owen Harris Braund</td>\n",
       "      <td>male</td>\n",
       "      <td>22.0</td>\n",
       "      <td>1</td>\n",
       "      <td>0</td>\n",
       "      <td>7.2500</td>\n",
       "    </tr>\n",
       "    <tr>\n",
       "      <th>1</th>\n",
       "      <td>1</td>\n",
       "      <td>1</td>\n",
       "      <td>Mrs. John Bradley (Florence Briggs Thayer) Cum...</td>\n",
       "      <td>female</td>\n",
       "      <td>38.0</td>\n",
       "      <td>1</td>\n",
       "      <td>0</td>\n",
       "      <td>71.2833</td>\n",
       "    </tr>\n",
       "    <tr>\n",
       "      <th>2</th>\n",
       "      <td>1</td>\n",
       "      <td>3</td>\n",
       "      <td>Miss. Laina Heikkinen</td>\n",
       "      <td>female</td>\n",
       "      <td>26.0</td>\n",
       "      <td>0</td>\n",
       "      <td>0</td>\n",
       "      <td>7.9250</td>\n",
       "    </tr>\n",
       "    <tr>\n",
       "      <th>3</th>\n",
       "      <td>1</td>\n",
       "      <td>1</td>\n",
       "      <td>Mrs. Jacques Heath (Lily May Peel) Futrelle</td>\n",
       "      <td>female</td>\n",
       "      <td>35.0</td>\n",
       "      <td>1</td>\n",
       "      <td>0</td>\n",
       "      <td>53.1000</td>\n",
       "    </tr>\n",
       "    <tr>\n",
       "      <th>4</th>\n",
       "      <td>0</td>\n",
       "      <td>3</td>\n",
       "      <td>Mr. William Henry Allen</td>\n",
       "      <td>male</td>\n",
       "      <td>35.0</td>\n",
       "      <td>0</td>\n",
       "      <td>0</td>\n",
       "      <td>8.0500</td>\n",
       "    </tr>\n",
       "  </tbody>\n",
       "</table>\n",
       "</div>"
      ],
      "text/plain": [
       "   Survived  Pclass                                               Name  \\\n",
       "0         0       3                             Mr. Owen Harris Braund   \n",
       "1         1       1  Mrs. John Bradley (Florence Briggs Thayer) Cum...   \n",
       "2         1       3                              Miss. Laina Heikkinen   \n",
       "3         1       1        Mrs. Jacques Heath (Lily May Peel) Futrelle   \n",
       "4         0       3                            Mr. William Henry Allen   \n",
       "\n",
       "      Sex   Age  Siblings/Spouses Aboard  Parents/Children Aboard     Fare  \n",
       "0    male  22.0                        1                        0   7.2500  \n",
       "1  female  38.0                        1                        0  71.2833  \n",
       "2  female  26.0                        0                        0   7.9250  \n",
       "3  female  35.0                        1                        0  53.1000  \n",
       "4    male  35.0                        0                        0   8.0500  "
      ]
     },
     "execution_count": 47,
     "metadata": {},
     "output_type": "execute_result"
    }
   ],
   "source": [
    "titanic_df.head()"
   ]
  },
  {
   "cell_type": "markdown",
   "id": "864ed94f",
   "metadata": {},
   "source": [
    "#### Your exercise:\n",
    "\n",
    "Create a neural network as above to model survival on the titanic dataset. There are several ways to do this. Here are some suggestions:\n",
    "* change the size of the output layer (a simple probability, so 1)\n",
    "* change the output of the final hidden layer to be a probability using nn.Sigmoid()\n",
    "* change the loss criterion to be nn.BCELoss()\n",
    "\n",
    "Please note that you can do this all differently: use 2 outputs (one per class), omit sigmoid and keep the same loss function, but the difference might be instructive.\n",
    "\n",
    "* also: explore variations of the model architecture (multiple hidden layers? hidden layer size? etc.) and see how far you can push the model performance!\n",
    "\n",
    "I encourage you to print out lots of intermediate things (your tensors? what is in your data loader? model parameters and performance? etc.)! I learned a lot doing it and I bet you will too."
   ]
  },
  {
   "cell_type": "markdown",
   "id": "90046b4f",
   "metadata": {},
   "source": [
    "#### One solution:"
   ]
  },
  {
   "cell_type": "code",
   "execution_count": 48,
   "id": "7dd2b30d",
   "metadata": {},
   "outputs": [],
   "source": [
    "# Select relevant features and target\n",
    "features = ['Pclass', 'Age', 'Siblings/Spouses Aboard', 'Parents/Children Aboard', 'Fare']\n",
    "target = 'Survived'\n",
    "\n",
    "# Standard scale the features\n",
    "scaler = StandardScaler()\n",
    "titanic_df[features] = scaler.fit_transform(titanic_df[features])"
   ]
  },
  {
   "cell_type": "code",
   "execution_count": 49,
   "id": "24c1a13c",
   "metadata": {},
   "outputs": [],
   "source": [
    "# Define a custom PyTorch dataset\n",
    "class TitanicDataset(Dataset):\n",
    "    def __init__(self, data):\n",
    "        self.X = data[features].values\n",
    "        self.y = data[target].values\n",
    "        self.n_samples = len(data)\n",
    "\n",
    "    def __getitem__(self, index):\n",
    "        return torch.tensor(self.X[index], dtype=torch.float32), torch.tensor(self.y[index], dtype=torch.float32)\n",
    "\n",
    "    def __len__(self):\n",
    "        return self.n_samples\n",
    "\n",
    "# Split data into train and test sets\n",
    "train_data, test_data = train_test_split(titanic_df, test_size=0.2, random_state=42)\n",
    "\n",
    "# Create PyTorch datasets and dataloaders\n",
    "train_dataset = TitanicDataset(train_data)\n",
    "test_dataset = TitanicDataset(test_data)\n",
    "\n",
    "train_loader = DataLoader(dataset=train_dataset, batch_size=16, shuffle=True)\n",
    "test_loader = DataLoader(dataset=test_dataset, batch_size=16, shuffle=False)"
   ]
  },
  {
   "cell_type": "code",
   "execution_count": 50,
   "id": "2f0557fb",
   "metadata": {},
   "outputs": [
    {
     "data": {
      "text/plain": [
       "(tensor([-0.3654, -0.1043, -0.4759, -0.4750, -0.3880]), tensor(1.))"
      ]
     },
     "execution_count": 50,
     "metadata": {},
     "output_type": "execute_result"
    }
   ],
   "source": [
    "train_dataset.__getitem__(3)"
   ]
  },
  {
   "cell_type": "code",
   "execution_count": 51,
   "id": "1402adb7",
   "metadata": {},
   "outputs": [],
   "source": [
    "# Define a simple neural network with one hidden layer\n",
    "class SimpleNN(nn.Module):\n",
    "    def __init__(self, input_size, hidden_size, output_size):\n",
    "        super(SimpleNN, self).__init__()\n",
    "        self.fc1 = nn.Linear(input_size, hidden_size)\n",
    "        self.relu = nn.ReLU()\n",
    "        self.fc2 = nn.Linear(hidden_size, output_size)\n",
    "        self.sigmoid = nn.Sigmoid()\n",
    "\n",
    "    def forward(self, x):\n",
    "        out = self.fc1(x)\n",
    "        out = self.relu(out)\n",
    "        out = self.fc2(out)\n",
    "        out = self.sigmoid(out)\n",
    "        return out\n",
    "\n"
   ]
  },
  {
   "cell_type": "code",
   "execution_count": 52,
   "id": "bafa15c7",
   "metadata": {},
   "outputs": [],
   "source": [
    "# Initialize the model, loss function, and optimizer\n",
    "input_size = len(features)  # Number of features\n",
    "hidden_size = 64  # Size of the hidden layer\n",
    "output_size = 1  # Output size (binary classification for survival)\n",
    "\n",
    "model = SimpleNN(input_size, hidden_size, output_size)\n",
    "criterion = nn.BCELoss()\n",
    "optimizer = optim.SGD(model.parameters(), lr=0.001)"
   ]
  },
  {
   "cell_type": "code",
   "execution_count": 53,
   "id": "49ca015c",
   "metadata": {},
   "outputs": [
    {
     "name": "stdout",
     "output_type": "stream",
     "text": [
      "Epoch 1/10, Loss: 0.6559\n",
      "Epoch 2/10, Loss: 0.6542\n",
      "Epoch 3/10, Loss: 0.6504\n",
      "Epoch 4/10, Loss: 0.6496\n",
      "Epoch 5/10, Loss: 0.6456\n",
      "Epoch 6/10, Loss: 0.6431\n",
      "Epoch 7/10, Loss: 0.6423\n",
      "Epoch 8/10, Loss: 0.6421\n",
      "Epoch 9/10, Loss: 0.6369\n",
      "Epoch 10/10, Loss: 0.6389\n"
     ]
    }
   ],
   "source": [
    "# Training loop\n",
    "num_epochs = 10\n",
    "\n",
    "for epoch in range(num_epochs):\n",
    "    model.train()\n",
    "    running_loss = 0.0\n",
    "    for inputs, targets in train_loader:\n",
    "        optimizer.zero_grad()\n",
    "        outputs = model(inputs)\n",
    "        #print(outputs)\n",
    "        #print(targets)\n",
    "        #print(outputs.squeeze())\n",
    "        #print(outputs.shape)\n",
    "        #print(outputs.squeeze().shape)\n",
    "        loss = criterion(outputs.squeeze(), targets)\n",
    "        loss.backward()\n",
    "        optimizer.step()\n",
    "        running_loss += loss.item()\n",
    "    epoch_loss = running_loss / len(train_loader)\n",
    "    print(f\"Epoch {epoch+1}/{num_epochs}, Loss: {epoch_loss:.4f}\")\n"
   ]
  },
  {
   "cell_type": "code",
   "execution_count": 54,
   "id": "a6122eba",
   "metadata": {},
   "outputs": [
    {
     "name": "stdout",
     "output_type": "stream",
     "text": [
      "Accuracy on test set: 64.04%\n"
     ]
    }
   ],
   "source": [
    "model.eval()\n",
    "correct = 0\n",
    "total = 0\n",
    "\n",
    "with torch.no_grad():\n",
    "    for inputs, targets in test_loader:\n",
    "        outputs = model(inputs)\n",
    "        predicted = torch.round(outputs)\n",
    "        total += targets.size(0)\n",
    "        correct += (predicted == targets.unsqueeze(1)).sum().item()  # Ensure targets are 2D\n",
    "\n",
    "accuracy = correct / total\n",
    "print(f\"Accuracy on test set: {accuracy:.2%}\")\n"
   ]
  }
 ],
 "metadata": {
  "kernelspec": {
   "display_name": "Python 3",
   "language": "python",
   "name": "python3"
  },
  "language_info": {
   "codemirror_mode": {
    "name": "ipython",
    "version": 3
   },
   "file_extension": ".py",
   "mimetype": "text/x-python",
   "name": "python",
   "nbconvert_exporter": "python",
   "pygments_lexer": "ipython3",
   "version": "3.12.5"
  }
 },
 "nbformat": 4,
 "nbformat_minor": 5
}
