{
  "cells": [
    {
      "cell_type": "markdown",
      "metadata": {
        "id": "view-in-github",
        "colab_type": "text"
      },
      "source": [
        "<a href=\"https://colab.research.google.com/github/cd-public/D505/blob/master/ipynb/temperature_prod.ipynb\" target=\"_parent\"><img src=\"https://colab.research.google.com/assets/colab-badge.svg\" alt=\"Open In Colab\"/></a>"
      ]
    },
    {
      "cell_type": "code",
      "execution_count": null,
      "id": "7bf7b3c2",
      "metadata": {
        "id": "7bf7b3c2"
      },
      "outputs": [],
      "source": [
        "import torch\n",
        "import torch.nn as nn\n",
        "import torch.optim as optim\n",
        "from sklearn.preprocessing import StandardScaler\n",
        "import matplotlib.pyplot as plt"
      ]
    },
    {
      "cell_type": "code",
      "execution_count": null,
      "id": "ecba1bfe",
      "metadata": {
        "id": "ecba1bfe"
      },
      "outputs": [],
      "source": [
        "# Input features (temperature in Celsius)\n",
        "t_c = [0.5, 14.0, 15.0, 28.0, 11.0, 8.0, 3.0, -4.0, 6.0, 13.0, 21.0]\n",
        "x = torch.tensor(t_c).view(-1, 1)  # Reshape to a 2D tensor with 11 rows and 1 column\n",
        "\n",
        "# Target values (temperature in Fahrenheit)\n",
        "t_u = [35.7, 55.9, 58.2, 81.9, 56.3, 48.9, 33.9, 21.8, 48.4, 60.4, 68.4]\n",
        "y = torch.tensor(t_u).view(-1, 1)  # Reshape to a 2D tensor with 11 rows and 1 column"
      ]
    },
    {
      "cell_type": "code",
      "source": [
        "import rpy2"
      ],
      "metadata": {
        "id": "NPeG6yzjHDDs"
      },
      "id": "NPeG6yzjHDDs",
      "execution_count": null,
      "outputs": []
    },
    {
      "cell_type": "code",
      "source": [
        "%load_ext rpy2.ipython"
      ],
      "metadata": {
        "id": "l05KncgUHHha"
      },
      "id": "l05KncgUHHha",
      "execution_count": null,
      "outputs": []
    },
    {
      "cell_type": "code",
      "execution_count": 11,
      "id": "f9ecb032",
      "metadata": {
        "colab": {
          "base_uri": "https://localhost:8080/"
        },
        "id": "f9ecb032",
        "outputId": "fb8827c1-8089-46df-a31a-87d36cc5eaf4"
      },
      "outputs": [
        {
          "output_type": "stream",
          "name": "stdout",
          "text": [
            "[1] 1 2\n"
          ]
        }
      ],
      "source": [
        "%%R\n",
        "c(1,2)"
      ]
    },
    {
      "cell_type": "code",
      "source": [
        "%%R -i t_u\n",
        "t_u"
      ],
      "metadata": {
        "colab": {
          "base_uri": "https://localhost:8080/"
        },
        "id": "3F2X-GcTHLaM",
        "outputId": "80b7b45b-f690-426b-9a98-a636bfe79df9"
      },
      "id": "3F2X-GcTHLaM",
      "execution_count": 12,
      "outputs": [
        {
          "output_type": "stream",
          "name": "stdout",
          "text": [
            " [1] 35.7 55.9 58.2 81.9 56.3 48.9 33.9 21.8 48.4 60.4 68.4\n"
          ]
        }
      ]
    },
    {
      "cell_type": "code",
      "execution_count": null,
      "id": "7216169e",
      "metadata": {
        "colab": {
          "base_uri": "https://localhost:8080/",
          "height": 430
        },
        "id": "7216169e",
        "outputId": "7dbf6ef9-91e0-4668-ce1e-b93f6e717b73"
      },
      "outputs": [
        {
          "output_type": "display_data",
          "data": {
            "text/plain": [
              "<Figure size 640x480 with 1 Axes>"
            ],
            "image/png": "[encoded data removed]"
          },
          "metadata": {}
        }
      ],
      "source": [
        "plt.scatter(t_c, t_u);"
      ]
    },
    {
      "cell_type": "code",
      "execution_count": null,
      "id": "cd49d05f",
      "metadata": {
        "id": "cd49d05f"
      },
      "outputs": [],
      "source": [
        "# Data normalization\n",
        "scaler_x = StandardScaler()\n",
        "scaler_y = StandardScaler()\n",
        "x_normalized = scaler_x.fit_transform(x.float())\n",
        "y_normalized = scaler_y.fit_transform(y.float())"
      ]
    },
    {
      "cell_type": "code",
      "execution_count": null,
      "id": "02fdcd4e",
      "metadata": {
        "id": "02fdcd4e"
      },
      "outputs": [],
      "source": [
        "class LinearNet(nn.Module):\n",
        "    def __init__(self, input_size, output_size):\n",
        "        super(LinearNet, self).__init__()\n",
        "        self.lin_coeffs = nn.Linear(input_size, output_size)\n",
        "\n",
        "\n",
        "    def forward(self, x):\n",
        "        x = self.lin_coeffs(x)\n",
        "        return x\n",
        "\n",
        "\n",
        "# Define a simple linear regression model\n",
        "class LinearRegression(nn.Module):\n",
        "    def __init__(self):\n",
        "        super(LinearRegression, self).__init__()\n",
        "        self.linear = nn.Linear(1, 1)  # One input feature, one output\n",
        "\n",
        "    def forward(self, x):\n",
        "        return self.linear(x)"
      ]
    },
    {
      "cell_type": "code",
      "execution_count": null,
      "id": "f2117ae0",
      "metadata": {
        "id": "f2117ae0"
      },
      "outputs": [],
      "source": [
        "# Instantiate the linear regression model, loss function, and optimizer\n",
        "model = LinearNet(1,1)\n",
        "criterion = nn.MSELoss()  # Mean Squared Error loss\n",
        "optimizer = optim.SGD(model.parameters(), lr=0.001)"
      ]
    },
    {
      "cell_type": "code",
      "execution_count": null,
      "id": "313adfca",
      "metadata": {
        "id": "313adfca",
        "outputId": "bf4b170f-727e-4830-d0ef-131dc6ebb771"
      },
      "outputs": [
        {
          "name": "stdout",
          "output_type": "stream",
          "text": [
            "Epoch 1, Loss: 0.5702587366104126\n",
            "OrderedDict({'lin_coeffs.weight': tensor([[0.3118]]), 'lin_coeffs.bias': tensor([-0.2911])})\n",
            "Epoch 101, Loss: 0.3946257531642914\n",
            "OrderedDict({'lin_coeffs.weight': tensor([[0.4332]]), 'lin_coeffs.bias': tensor([-0.2383])})\n",
            "Epoch 201, Loss: 0.2769426107406616\n",
            "OrderedDict({'lin_coeffs.weight': tensor([[0.5326]]), 'lin_coeffs.bias': tensor([-0.1951])})\n",
            "Epoch 301, Loss: 0.19808879494667053\n",
            "OrderedDict({'lin_coeffs.weight': tensor([[0.6139]]), 'lin_coeffs.bias': tensor([-0.1597])})\n",
            "Epoch 401, Loss: 0.14525264501571655\n",
            "OrderedDict({'lin_coeffs.weight': tensor([[0.6805]]), 'lin_coeffs.bias': tensor([-0.1307])})\n",
            "Epoch 501, Loss: 0.10984975844621658\n",
            "OrderedDict({'lin_coeffs.weight': tensor([[0.7350]]), 'lin_coeffs.bias': tensor([-0.1070])})\n",
            "Epoch 601, Loss: 0.086127869784832\n",
            "OrderedDict({'lin_coeffs.weight': tensor([[0.7796]]), 'lin_coeffs.bias': tensor([-0.0876])})\n",
            "Epoch 701, Loss: 0.07023297995328903\n",
            "OrderedDict({'lin_coeffs.weight': tensor([[0.8161]]), 'lin_coeffs.bias': tensor([-0.0717])})\n",
            "Epoch 801, Loss: 0.05958262458443642\n",
            "OrderedDict({'lin_coeffs.weight': tensor([[0.8460]]), 'lin_coeffs.bias': tensor([-0.0587])})\n",
            "Epoch 901, Loss: 0.05244627222418785\n",
            "OrderedDict({'lin_coeffs.weight': tensor([[0.8705]]), 'lin_coeffs.bias': tensor([-0.0480])})\n",
            "Final Model Parameters: OrderedDict({'lin_coeffs.weight': tensor([[0.8905]]), 'lin_coeffs.bias': tensor([-0.0393])})\n"
          ]
        }
      ],
      "source": [
        "# Training loop\n",
        "num_epochs = 1000\n",
        "for epoch in range(num_epochs):\n",
        "    # Forward pass: compute predicted y by passing x to the model\n",
        "    y_pred = model(torch.tensor(x_normalized, dtype=torch.float32))\n",
        "\n",
        "    # Compute and print loss\n",
        "    loss = criterion(y_pred, torch.tensor(y_normalized, dtype=torch.float32))\n",
        "    if epoch % 100 == 0:\n",
        "        print(f'Epoch {epoch + 1}, Loss: {loss.item()}')\n",
        "        print(model.state_dict())\n",
        "\n",
        "    # Zero gradients, perform a backward pass, and update weights\n",
        "    optimizer.zero_grad()\n",
        "    loss.backward()\n",
        "    optimizer.step()\n",
        "\n",
        "# After training, print the final model parameters\n",
        "print(f'Final Model Parameters: {model.state_dict()}')"
      ]
    },
    {
      "cell_type": "code",
      "execution_count": null,
      "id": "1f2bef5d",
      "metadata": {
        "id": "1f2bef5d",
        "outputId": "c0674fc1-bb0b-4275-b9d2-0e60162a017e"
      },
      "outputs": [
        {
          "data": {
            "text/plain": [
              "array([16.04861968])"
            ]
          },
          "execution_count": 8,
          "metadata": {},
          "output_type": "execute_result"
        }
      ],
      "source": [
        "scaler_y.scale_"
      ]
    },
    {
      "cell_type": "code",
      "execution_count": null,
      "id": "0948986b",
      "metadata": {
        "id": "0948986b",
        "outputId": "1972a652-2d8e-4ffa-9c77-9f9d307e01c8"
      },
      "outputs": [
        {
          "data": {
            "text/plain": [
              "8.225981999999998"
            ]
          },
          "execution_count": 9,
          "metadata": {},
          "output_type": "execute_result"
        }
      ],
      "source": [
        "8.78*0.9369"
      ]
    },
    {
      "cell_type": "markdown",
      "id": "1af4f28a",
      "metadata": {
        "id": "1af4f28a"
      },
      "source": [
        "### Penguins\n",
        "\n"
      ]
    },
    {
      "cell_type": "code",
      "execution_count": null,
      "id": "ac470cdb",
      "metadata": {
        "id": "ac470cdb"
      },
      "outputs": [],
      "source": [
        "import seaborn as sns\n",
        "import pandas as pd\n",
        "from sklearn.preprocessing import OneHotEncoder, LabelEncoder\n",
        "from torch.utils.data import Dataset, DataLoader\n",
        "from sklearn.model_selection import train_test_split"
      ]
    },
    {
      "cell_type": "code",
      "execution_count": null,
      "id": "c61fdd4f",
      "metadata": {
        "id": "c61fdd4f"
      },
      "outputs": [],
      "source": [
        "penguins = sns.load_dataset(\"penguins\")\n",
        "\n",
        "penguins = penguins.dropna()"
      ]
    },
    {
      "cell_type": "code",
      "execution_count": null,
      "id": "5850fefb",
      "metadata": {
        "id": "5850fefb",
        "outputId": "9610b9f0-86ae-41a2-b1a1-02d08082e749"
      },
      "outputs": [
        {
          "data": {
            "text/html": [
              "<div>\n",
              "<style scoped>\n",
              "    .dataframe tbody tr th:only-of-type {\n",
              "        vertical-align: middle;\n",
              "    }\n",
              "\n",
              "    .dataframe tbody tr th {\n",
              "        vertical-align: top;\n",
              "    }\n",
              "\n",
              "    .dataframe thead th {\n",
              "        text-align: right;\n",
              "    }\n",
              "</style>\n",
              "<table border=\"1\" class=\"dataframe\">\n",
              "  <thead>\n",
              "    <tr style=\"text-align: right;\">\n",
              "      <th></th>\n",
              "      <th>species</th>\n",
              "      <th>island</th>\n",
              "      <th>bill_length_mm</th>\n",
              "      <th>bill_depth_mm</th>\n",
              "      <th>flipper_length_mm</th>\n",
              "      <th>body_mass_g</th>\n",
              "      <th>sex</th>\n",
              "    </tr>\n",
              "  </thead>\n",
              "  <tbody>\n",
              "    <tr>\n",
              "      <th>0</th>\n",
              "      <td>Adelie</td>\n",
              "      <td>Torgersen</td>\n",
              "      <td>39.1</td>\n",
              "      <td>18.7</td>\n",
              "      <td>181.0</td>\n",
              "      <td>3750.0</td>\n",
              "      <td>Male</td>\n",
              "    </tr>\n",
              "    <tr>\n",
              "      <th>1</th>\n",
              "      <td>Adelie</td>\n",
              "      <td>Torgersen</td>\n",
              "      <td>39.5</td>\n",
              "      <td>17.4</td>\n",
              "      <td>186.0</td>\n",
              "      <td>3800.0</td>\n",
              "      <td>Female</td>\n",
              "    </tr>\n",
              "    <tr>\n",
              "      <th>2</th>\n",
              "      <td>Adelie</td>\n",
              "      <td>Torgersen</td>\n",
              "      <td>40.3</td>\n",
              "      <td>18.0</td>\n",
              "      <td>195.0</td>\n",
              "      <td>3250.0</td>\n",
              "      <td>Female</td>\n",
              "    </tr>\n",
              "    <tr>\n",
              "      <th>4</th>\n",
              "      <td>Adelie</td>\n",
              "      <td>Torgersen</td>\n",
              "      <td>36.7</td>\n",
              "      <td>19.3</td>\n",
              "      <td>193.0</td>\n",
              "      <td>3450.0</td>\n",
              "      <td>Female</td>\n",
              "    </tr>\n",
              "    <tr>\n",
              "      <th>5</th>\n",
              "      <td>Adelie</td>\n",
              "      <td>Torgersen</td>\n",
              "      <td>39.3</td>\n",
              "      <td>20.6</td>\n",
              "      <td>190.0</td>\n",
              "      <td>3650.0</td>\n",
              "      <td>Male</td>\n",
              "    </tr>\n",
              "  </tbody>\n",
              "</table>\n",
              "</div>"
            ],
            "text/plain": [
              "  species     island  bill_length_mm  bill_depth_mm  flipper_length_mm  \\\n",
              "0  Adelie  Torgersen            39.1           18.7              181.0   \n",
              "1  Adelie  Torgersen            39.5           17.4              186.0   \n",
              "2  Adelie  Torgersen            40.3           18.0              195.0   \n",
              "4  Adelie  Torgersen            36.7           19.3              193.0   \n",
              "5  Adelie  Torgersen            39.3           20.6              190.0   \n",
              "\n",
              "   body_mass_g     sex  \n",
              "0       3750.0    Male  \n",
              "1       3800.0  Female  \n",
              "2       3250.0  Female  \n",
              "4       3450.0  Female  \n",
              "5       3650.0    Male  "
            ]
          },
          "execution_count": 12,
          "metadata": {},
          "output_type": "execute_result"
        }
      ],
      "source": [
        "penguins.head()"
      ]
    },
    {
      "cell_type": "code",
      "execution_count": null,
      "id": "9fb2c0b0",
      "metadata": {
        "id": "9fb2c0b0",
        "outputId": "f2ea6dc0-0343-4723-b6b7-71f8257e2801"
      },
      "outputs": [
        {
          "data": {
            "text/plain": [
              "(333, 7)"
            ]
          },
          "execution_count": 13,
          "metadata": {},
          "output_type": "execute_result"
        }
      ],
      "source": [
        "penguins.shape"
      ]
    },
    {
      "cell_type": "code",
      "execution_count": null,
      "id": "a0bf1bea",
      "metadata": {
        "id": "a0bf1bea"
      },
      "outputs": [],
      "source": [
        "label_encoder = LabelEncoder()\n",
        "penguins['species_encoded'] = label_encoder.fit_transform(penguins['species'])"
      ]
    },
    {
      "cell_type": "code",
      "execution_count": null,
      "id": "20920c8d",
      "metadata": {
        "id": "20920c8d"
      },
      "outputs": [],
      "source": [
        "class PenguinDataset(Dataset):\n",
        "    def __init__(self, data):\n",
        "        self.X = data[['bill_length_mm', 'bill_depth_mm', 'flipper_length_mm', 'body_mass_g']].values\n",
        "        self.y = data['species_encoded'].values # DONT FORGET .VALUES\n",
        "        self.n_samples = len(data)\n",
        "\n",
        "    def __getitem__(self, index):\n",
        "        return torch.tensor(self.X[index], dtype=torch.float32), torch.tensor(self.y[index], dtype=torch.int64)\n",
        "\n",
        "    def __len__(self):\n",
        "        return self.n_samples"
      ]
    },
    {
      "cell_type": "code",
      "execution_count": null,
      "id": "2e3d898c",
      "metadata": {
        "id": "2e3d898c"
      },
      "outputs": [],
      "source": [
        "train_data, test_data = train_test_split(penguins, test_size=0.2, random_state=97301)\n",
        "\n",
        "train_dataset = PenguinDataset(train_data)\n",
        "test_dataset = PenguinDataset(test_data)\n",
        "\n",
        "train_loader = DataLoader(dataset=train_dataset, batch_size=16, shuffle=True)\n",
        "test_loader = DataLoader(dataset=test_dataset, batch_size=16, shuffle=False)"
      ]
    },
    {
      "cell_type": "code",
      "execution_count": null,
      "id": "892cc1a8",
      "metadata": {
        "id": "892cc1a8",
        "outputId": "9200f516-37e4-4bb7-a65e-f4fe0732e1d6"
      },
      "outputs": [
        {
          "data": {
            "text/plain": [
              "(tensor([  36.7000,   19.3000,  193.0000, 3450.0000]), tensor(0))"
            ]
          },
          "execution_count": 19,
          "metadata": {},
          "output_type": "execute_result"
        }
      ],
      "source": [
        "train_dataset.__getitem__(5)"
      ]
    },
    {
      "cell_type": "code",
      "execution_count": null,
      "id": "33f10bbd",
      "metadata": {
        "id": "33f10bbd"
      },
      "outputs": [],
      "source": [
        "class SimpleNN(nn.Module):\n",
        "    def __init__(self, input_size, hidden_size, num_classes):\n",
        "        super(SimpleNN, self).__init__()\n",
        "        self.fc1 = nn.Linear(input_size, hidden_size)\n",
        "        self.relu = nn.ReLU()\n",
        "        self.fc2 = nn.Linear(hidden_size, num_classes)\n",
        "\n",
        "    def forward(self, x):\n",
        "        out = self.fc1(x)\n",
        "        out = self.relu(out)\n",
        "        out = self.fc2(out)\n",
        "        return out"
      ]
    },
    {
      "cell_type": "code",
      "execution_count": null,
      "id": "36c4339c",
      "metadata": {
        "id": "36c4339c"
      },
      "outputs": [],
      "source": [
        "input_size = 4  # Number of features\n",
        "hidden_size = 64  # Size of the hidden layer\n",
        "num_classes = len(label_encoder.classes_)\n",
        "learning_rate = 0.001"
      ]
    },
    {
      "cell_type": "code",
      "execution_count": null,
      "id": "12c33650",
      "metadata": {
        "id": "12c33650",
        "outputId": "b098e75f-1755-43a0-d1c9-3827fe9cb1b6"
      },
      "outputs": [
        {
          "data": {
            "text/plain": [
              "3"
            ]
          },
          "execution_count": 22,
          "metadata": {},
          "output_type": "execute_result"
        }
      ],
      "source": [
        "num_classes"
      ]
    },
    {
      "cell_type": "code",
      "execution_count": null,
      "id": "a5dea079",
      "metadata": {
        "id": "a5dea079"
      },
      "outputs": [],
      "source": [
        "model = SimpleNN(input_size, hidden_size, num_classes)\n",
        "criterion = nn.CrossEntropyLoss()\n",
        "optimizer = optim.Adam(model.parameters(), lr=learning_rate)"
      ]
    },
    {
      "cell_type": "code",
      "execution_count": null,
      "id": "36893419",
      "metadata": {
        "id": "36893419",
        "outputId": "96b10cc0-14b2-4e48-fc06-ed6772f28801"
      },
      "outputs": [
        {
          "name": "stdout",
          "output_type": "stream",
          "text": [
            "Epoch 1/10, Loss: 228.2781\n",
            "Epoch 2/10, Loss: 55.7716\n",
            "Epoch 3/10, Loss: 12.1236\n",
            "Epoch 4/10, Loss: 11.2677\n",
            "Epoch 5/10, Loss: 13.5864\n",
            "Epoch 6/10, Loss: 19.9442\n",
            "Epoch 7/10, Loss: 11.2570\n",
            "Epoch 8/10, Loss: 7.8737\n",
            "Epoch 9/10, Loss: 10.6387\n",
            "Epoch 10/10, Loss: 9.4042\n"
          ]
        }
      ],
      "source": [
        "# Training loop\n",
        "num_epochs = 10\n",
        "\n",
        "for epoch in range(num_epochs):\n",
        "    model.train()\n",
        "    running_loss = 0.0\n",
        "    for inputs, targets in train_loader:\n",
        "        optimizer.zero_grad()\n",
        "        outputs = model(inputs)\n",
        "        loss = criterion(outputs, targets)\n",
        "        loss.backward()\n",
        "        optimizer.step()\n",
        "        running_loss += loss.item()\n",
        "    epoch_loss = running_loss / len(train_loader)\n",
        "    print(f\"Epoch {epoch+1}/{num_epochs}, Loss: {epoch_loss:.4f}\")\n"
      ]
    },
    {
      "cell_type": "code",
      "execution_count": null,
      "id": "fe9988bb",
      "metadata": {
        "id": "fe9988bb",
        "outputId": "5303fac9-c0c1-4048-9c56-f617ebbdcf63"
      },
      "outputs": [
        {
          "name": "stdout",
          "output_type": "stream",
          "text": [
            "Accuracy on test set: 40.30%\n"
          ]
        }
      ],
      "source": [
        "# Evaluation on the test set\n",
        "model.eval()\n",
        "correct = 0\n",
        "total = 0\n",
        "\n",
        "# might be worth picking this apart line by line...\n",
        "with torch.no_grad():\n",
        "    for inputs, targets in test_loader:\n",
        "        outputs = model(inputs)\n",
        "        _, predicted = torch.max(outputs.data, 1)\n",
        "        total += targets.size(0)\n",
        "        correct += (predicted == targets).sum().item()\n",
        "\n",
        "accuracy = correct / total\n",
        "print(f\"Accuracy on test set: {accuracy:.2%}\")"
      ]
    },
    {
      "cell_type": "markdown",
      "id": "cc4a34ea",
      "metadata": {
        "id": "cc4a34ea"
      },
      "source": [
        "Well that was awful. Before we fix it..."
      ]
    },
    {
      "cell_type": "code",
      "execution_count": null,
      "id": "fc300a2b",
      "metadata": {
        "id": "fc300a2b",
        "outputId": "49d83a31-dea6-4e0d-b4b1-7acb7bb4440b"
      },
      "outputs": [
        {
          "name": "stdout",
          "output_type": "stream",
          "text": [
            "tensor([[  35.5000,   16.2000,  195.0000, 3350.0000],\n",
            "        [  34.0000,   17.1000,  185.0000, 3400.0000],\n",
            "        [  49.2000,   15.2000,  221.0000, 6300.0000]])\n",
            "tensor([[ -67.1173,  -90.4139,  -67.3528],\n",
            "        [ -69.9982,  -89.7457,  -68.4247],\n",
            "        [-142.3762, -149.5948, -130.5651]])\n",
            "tensor([0, 2, 2])\n",
            "\n",
            "\n",
            "\n",
            "\n",
            "tensor([[  35.5000,   16.2000,  195.0000, 3350.0000],\n",
            "        [  34.0000,   17.1000,  185.0000, 3400.0000],\n",
            "        [  49.2000,   15.2000,  221.0000, 6300.0000]])\n",
            "tensor([[ -67.1173,  -90.4139,  -67.3528],\n",
            "        [ -69.9982,  -89.7457,  -68.4247],\n",
            "        [-142.3762, -149.5948, -130.5651]])\n",
            "tensor([0, 2, 2])\n",
            "\n",
            "\n",
            "\n",
            "\n",
            "tensor([[  35.5000,   16.2000,  195.0000, 3350.0000],\n",
            "        [  34.0000,   17.1000,  185.0000, 3400.0000],\n",
            "        [  49.2000,   15.2000,  221.0000, 6300.0000]])\n",
            "tensor([[ -67.1173,  -90.4139,  -67.3528],\n",
            "        [ -69.9982,  -89.7457,  -68.4247],\n",
            "        [-142.3762, -149.5948, -130.5651]])\n",
            "tensor([0, 2, 2])\n",
            "\n",
            "\n",
            "\n",
            "\n"
          ]
        }
      ],
      "source": [
        "num_batches_to_iterate = 3  # Specify the number of batches you want to iterate through\n",
        "\n",
        "with torch.no_grad():\n",
        "    for batch_idx, batch in enumerate(test_loader):\n",
        "        if batch_idx >= num_batches_to_iterate:\n",
        "            break\n",
        "        outputs = model(inputs)\n",
        "        print(inputs)\n",
        "        print(outputs)\n",
        "        _, predicted = torch.max(outputs.data, 1)\n",
        "        print(predicted)\n",
        "        print('\\n\\n\\n')"
      ]
    },
    {
      "cell_type": "code",
      "execution_count": null,
      "id": "e8a6d922",
      "metadata": {
        "id": "e8a6d922"
      },
      "outputs": [],
      "source": [
        "from sklearn.preprocessing import StandardScaler\n",
        "\n",
        "scaler = StandardScaler()\n",
        "scaled_features = scaler.fit_transform(penguins[['bill_length_mm', 'bill_depth_mm', 'flipper_length_mm', 'body_mass_g']])\n",
        "penguins[['bill_length_mm', 'bill_depth_mm', 'flipper_length_mm', 'body_mass_g']] = scaled_features\n"
      ]
    },
    {
      "cell_type": "code",
      "execution_count": null,
      "id": "a3a67c07",
      "metadata": {
        "id": "a3a67c07"
      },
      "outputs": [],
      "source": [
        "train_data, test_data = train_test_split(penguins, test_size=0.2, random_state=12345)\n",
        "\n",
        "train_dataset = PenguinDataset(train_data)\n",
        "test_dataset = PenguinDataset(test_data)\n",
        "\n",
        "train_loader = DataLoader(dataset=train_dataset, batch_size=16, shuffle=True)\n",
        "test_loader = DataLoader(dataset=test_dataset, batch_size=16, shuffle=False)\n",
        "\n",
        "\n",
        "model = SimpleNN(input_size, hidden_size, num_classes)\n",
        "criterion = nn.CrossEntropyLoss()\n",
        "optimizer = optim.Adam(model.parameters(), lr=learning_rate)"
      ]
    },
    {
      "cell_type": "code",
      "execution_count": null,
      "id": "29108144",
      "metadata": {
        "id": "29108144",
        "outputId": "e5f1668d-618d-4a21-da6c-d30fec0cc9af"
      },
      "outputs": [
        {
          "name": "stdout",
          "output_type": "stream",
          "text": [
            "Epoch 1/10, Loss: 1.0188\n",
            "Epoch 2/10, Loss: 0.7699\n",
            "Epoch 3/10, Loss: 0.5856\n",
            "Epoch 4/10, Loss: 0.4568\n",
            "Epoch 5/10, Loss: 0.3622\n",
            "Epoch 6/10, Loss: 0.2978\n",
            "Epoch 7/10, Loss: 0.2449\n",
            "Epoch 8/10, Loss: 0.2129\n",
            "Epoch 9/10, Loss: 0.1787\n",
            "Epoch 10/10, Loss: 0.1548\n"
          ]
        }
      ],
      "source": [
        "# Training loop\n",
        "num_epochs = 10\n",
        "\n",
        "for epoch in range(num_epochs):\n",
        "    model.train()\n",
        "    running_loss = 0.0\n",
        "    for inputs, targets in train_loader:\n",
        "        optimizer.zero_grad()\n",
        "        outputs = model(inputs)\n",
        "        loss = criterion(outputs, targets)\n",
        "        loss.backward()\n",
        "        optimizer.step()\n",
        "        running_loss += loss.item()\n",
        "    epoch_loss = running_loss / len(train_loader)\n",
        "    print(f\"Epoch {epoch+1}/{num_epochs}, Loss: {epoch_loss:.4f}\")\n"
      ]
    },
    {
      "cell_type": "code",
      "execution_count": null,
      "id": "39562c2f",
      "metadata": {
        "id": "39562c2f",
        "outputId": "63a51e23-f092-48b9-ab7a-4102a8183d40"
      },
      "outputs": [
        {
          "name": "stdout",
          "output_type": "stream",
          "text": [
            "Accuracy on test set: 98.51%\n"
          ]
        }
      ],
      "source": [
        "# Evaluation on the test set\n",
        "model.eval()\n",
        "correct = 0\n",
        "total = 0\n",
        "\n",
        "with torch.no_grad():\n",
        "    for inputs, targets in test_loader:\n",
        "        outputs = model(inputs)\n",
        "        _, predicted = torch.max(outputs.data, 1)\n",
        "        total += targets.size(0)\n",
        "        correct += (predicted == targets).sum().item()\n",
        "\n",
        "accuracy = correct / total\n",
        "print(f\"Accuracy on test set: {accuracy:.2%}\")"
      ]
    },
    {
      "cell_type": "markdown",
      "id": "b4430e05",
      "metadata": {
        "id": "b4430e05"
      },
      "source": [
        "How striking!"
      ]
    },
    {
      "cell_type": "markdown",
      "id": "3e917e01",
      "metadata": {
        "id": "3e917e01"
      },
      "source": [
        "### Exercise: the titanic"
      ]
    },
    {
      "cell_type": "code",
      "execution_count": null,
      "id": "4056ebb1",
      "metadata": {
        "id": "4056ebb1"
      },
      "outputs": [],
      "source": [
        "\n",
        "# Load the Titanic dataset\n",
        "url = \"https://web.stanford.edu/class/archive/cs/cs109/cs109.1166/stuff/titanic.csv\"\n",
        "titanic_df = pd.read_csv(url)\n",
        "\n",
        "# Drop rows with missing values for simplicity\n",
        "titanic_df = titanic_df.dropna()"
      ]
    },
    {
      "cell_type": "code",
      "execution_count": null,
      "id": "d511ec5f",
      "metadata": {
        "id": "d511ec5f",
        "outputId": "fe21202b-3e60-47d7-cd29-ef6486ba77a4"
      },
      "outputs": [
        {
          "data": {
            "text/html": [
              "<div>\n",
              "<style scoped>\n",
              "    .dataframe tbody tr th:only-of-type {\n",
              "        vertical-align: middle;\n",
              "    }\n",
              "\n",
              "    .dataframe tbody tr th {\n",
              "        vertical-align: top;\n",
              "    }\n",
              "\n",
              "    .dataframe thead th {\n",
              "        text-align: right;\n",
              "    }\n",
              "</style>\n",
              "<table border=\"1\" class=\"dataframe\">\n",
              "  <thead>\n",
              "    <tr style=\"text-align: right;\">\n",
              "      <th></th>\n",
              "      <th>Survived</th>\n",
              "      <th>Pclass</th>\n",
              "      <th>Name</th>\n",
              "      <th>Sex</th>\n",
              "      <th>Age</th>\n",
              "      <th>Siblings/Spouses Aboard</th>\n",
              "      <th>Parents/Children Aboard</th>\n",
              "      <th>Fare</th>\n",
              "    </tr>\n",
              "  </thead>\n",
              "  <tbody>\n",
              "    <tr>\n",
              "      <th>0</th>\n",
              "      <td>0</td>\n",
              "      <td>3</td>\n",
              "      <td>Mr. Owen Harris Braund</td>\n",
              "      <td>male</td>\n",
              "      <td>22.0</td>\n",
              "      <td>1</td>\n",
              "      <td>0</td>\n",
              "      <td>7.2500</td>\n",
              "    </tr>\n",
              "    <tr>\n",
              "      <th>1</th>\n",
              "      <td>1</td>\n",
              "      <td>1</td>\n",
              "      <td>Mrs. John Bradley (Florence Briggs Thayer) Cum...</td>\n",
              "      <td>female</td>\n",
              "      <td>38.0</td>\n",
              "      <td>1</td>\n",
              "      <td>0</td>\n",
              "      <td>71.2833</td>\n",
              "    </tr>\n",
              "    <tr>\n",
              "      <th>2</th>\n",
              "      <td>1</td>\n",
              "      <td>3</td>\n",
              "      <td>Miss. Laina Heikkinen</td>\n",
              "      <td>female</td>\n",
              "      <td>26.0</td>\n",
              "      <td>0</td>\n",
              "      <td>0</td>\n",
              "      <td>7.9250</td>\n",
              "    </tr>\n",
              "    <tr>\n",
              "      <th>3</th>\n",
              "      <td>1</td>\n",
              "      <td>1</td>\n",
              "      <td>Mrs. Jacques Heath (Lily May Peel) Futrelle</td>\n",
              "      <td>female</td>\n",
              "      <td>35.0</td>\n",
              "      <td>1</td>\n",
              "      <td>0</td>\n",
              "      <td>53.1000</td>\n",
              "    </tr>\n",
              "    <tr>\n",
              "      <th>4</th>\n",
              "      <td>0</td>\n",
              "      <td>3</td>\n",
              "      <td>Mr. William Henry Allen</td>\n",
              "      <td>male</td>\n",
              "      <td>35.0</td>\n",
              "      <td>0</td>\n",
              "      <td>0</td>\n",
              "      <td>8.0500</td>\n",
              "    </tr>\n",
              "  </tbody>\n",
              "</table>\n",
              "</div>"
            ],
            "text/plain": [
              "   Survived  Pclass                                               Name  \\\n",
              "0         0       3                             Mr. Owen Harris Braund   \n",
              "1         1       1  Mrs. John Bradley (Florence Briggs Thayer) Cum...   \n",
              "2         1       3                              Miss. Laina Heikkinen   \n",
              "3         1       1        Mrs. Jacques Heath (Lily May Peel) Futrelle   \n",
              "4         0       3                            Mr. William Henry Allen   \n",
              "\n",
              "      Sex   Age  Siblings/Spouses Aboard  Parents/Children Aboard     Fare  \n",
              "0    male  22.0                        1                        0   7.2500  \n",
              "1  female  38.0                        1                        0  71.2833  \n",
              "2  female  26.0                        0                        0   7.9250  \n",
              "3  female  35.0                        1                        0  53.1000  \n",
              "4    male  35.0                        0                        0   8.0500  "
            ]
          },
          "execution_count": 32,
          "metadata": {},
          "output_type": "execute_result"
        }
      ],
      "source": [
        "titanic_df.head()"
      ]
    },
    {
      "cell_type": "markdown",
      "id": "49b3c60b",
      "metadata": {
        "id": "49b3c60b"
      },
      "source": [
        "#### Your exercise:\n",
        "\n",
        "Create a neural network as above to model survival on the titanic dataset. There are several ways to do this. Here are some suggestions:\n",
        "* change the size of the output layer (a simple probability, so 1)\n",
        "* change the output of the final hidden layer to be a probability using nn.Sigmoid()\n",
        "* change the loss criterion to be nn.BCELoss()\n",
        "\n",
        "Please note that you can do this all differently: use 2 outputs (one per class), omit sigmoid and keep the same loss function, but the difference might be instructive.\n",
        "\n",
        "* also: explore variations of the model architecture (multiple hidden layers? hidden layer size? etc.) and see how far you can push the model performance!\n",
        "\n",
        "I encourage you to print out lots of intermediate things (your tensors? what is in your data loader? model parameters and performance? etc.)! I learned a lot doing it and I bet you will too."
      ]
    },
    {
      "cell_type": "markdown",
      "id": "2c94f096",
      "metadata": {
        "id": "2c94f096"
      },
      "source": [
        "#### One solution:"
      ]
    },
    {
      "cell_type": "code",
      "execution_count": null,
      "id": "e8a936de",
      "metadata": {
        "id": "e8a936de"
      },
      "outputs": [],
      "source": [
        "# Select relevant features and target\n",
        "features = ['Pclass', 'Age', 'Siblings/Spouses Aboard', 'Parents/Children Aboard', 'Fare']\n",
        "target = 'Survived'\n",
        "\n",
        "# Standard scale the features\n",
        "scaler = StandardScaler()\n",
        "titanic_df[features] = scaler.fit_transform(titanic_df[features])"
      ]
    },
    {
      "cell_type": "code",
      "execution_count": null,
      "id": "7d945f13",
      "metadata": {
        "id": "7d945f13"
      },
      "outputs": [],
      "source": [
        "# Define a custom PyTorch dataset\n",
        "class TitanicDataset(Dataset):\n",
        "    def __init__(self, data):\n",
        "        self.X = data[features].values\n",
        "        self.y = data[target].values\n",
        "        self.n_samples = len(data)\n",
        "\n",
        "    def __getitem__(self, index):\n",
        "        return torch.tensor(self.X[index], dtype=torch.float32), torch.tensor(self.y[index], dtype=torch.float32)\n",
        "\n",
        "    def __len__(self):\n",
        "        return self.n_samples\n",
        "\n",
        "# Split data into train and test sets\n",
        "train_data, test_data = train_test_split(titanic_df, test_size=0.2, random_state=42)\n",
        "\n",
        "# Create PyTorch datasets and dataloaders\n",
        "train_dataset = TitanicDataset(train_data)\n",
        "test_dataset = TitanicDataset(test_data)\n",
        "\n",
        "train_loader = DataLoader(dataset=train_dataset, batch_size=16, shuffle=True)\n",
        "test_loader = DataLoader(dataset=test_dataset, batch_size=16, shuffle=False)"
      ]
    },
    {
      "cell_type": "code",
      "execution_count": null,
      "id": "c1e9546a",
      "metadata": {
        "id": "c1e9546a",
        "outputId": "a50a6a96-eb75-42ad-afaa-719711a9e751"
      },
      "outputs": [
        {
          "data": {
            "text/plain": [
              "(tensor([-0.3654, -0.1043, -0.4759, -0.4750, -0.3880]), tensor(1.))"
            ]
          },
          "execution_count": 35,
          "metadata": {},
          "output_type": "execute_result"
        }
      ],
      "source": [
        "train_dataset.__getitem__(3)"
      ]
    },
    {
      "cell_type": "code",
      "execution_count": null,
      "id": "44ea5be1",
      "metadata": {
        "id": "44ea5be1"
      },
      "outputs": [],
      "source": [
        "# Define a simple neural network with one hidden layer\n",
        "class SimpleNN(nn.Module):\n",
        "    def __init__(self, input_size, hidden_size, output_size):\n",
        "        super(SimpleNN, self).__init__()\n",
        "        self.fc1 = nn.Linear(input_size, hidden_size)\n",
        "        self.relu = nn.ReLU()\n",
        "        self.fc2 = nn.Linear(hidden_size, output_size)\n",
        "        self.sigmoid = nn.Sigmoid()\n",
        "\n",
        "    def forward(self, x):\n",
        "        out = self.fc1(x)\n",
        "        out = self.relu(out)\n",
        "        out = self.fc2(out)\n",
        "        out = self.sigmoid(out)\n",
        "        return out\n",
        "\n"
      ]
    },
    {
      "cell_type": "code",
      "execution_count": null,
      "id": "1dfb1dff",
      "metadata": {
        "id": "1dfb1dff"
      },
      "outputs": [],
      "source": [
        "# Initialize the model, loss function, and optimizer\n",
        "input_size = len(features)  # Number of features\n",
        "hidden_size = 64  # Size of the hidden layer\n",
        "output_size = 1  # Output size (binary classification for survival)\n",
        "\n",
        "model = SimpleNN(input_size, hidden_size, output_size)\n",
        "criterion = nn.BCELoss()\n",
        "optimizer = optim.SGD(model.parameters(), lr=0.001)"
      ]
    },
    {
      "cell_type": "code",
      "execution_count": null,
      "id": "fa08bcda",
      "metadata": {
        "id": "fa08bcda",
        "outputId": "73184ce7-6a3e-4003-e455-bea90a7862ec"
      },
      "outputs": [
        {
          "name": "stdout",
          "output_type": "stream",
          "text": [
            "Epoch 1/10, Loss: 0.6951\n",
            "Epoch 2/10, Loss: 0.6876\n",
            "Epoch 3/10, Loss: 0.6796\n",
            "Epoch 4/10, Loss: 0.6744\n",
            "Epoch 5/10, Loss: 0.6680\n",
            "Epoch 6/10, Loss: 0.6640\n",
            "Epoch 7/10, Loss: 0.6585\n",
            "Epoch 8/10, Loss: 0.6548\n",
            "Epoch 9/10, Loss: 0.6514\n",
            "Epoch 10/10, Loss: 0.6480\n"
          ]
        }
      ],
      "source": [
        "# Training loop\n",
        "num_epochs = 10\n",
        "\n",
        "for epoch in range(num_epochs):\n",
        "    model.train()\n",
        "    running_loss = 0.0\n",
        "    for inputs, targets in train_loader:\n",
        "        optimizer.zero_grad()\n",
        "        outputs = model(inputs)\n",
        "        #print(outputs)\n",
        "        #print(targets)\n",
        "        #print(outputs.squeeze())\n",
        "        #print(outputs.shape)\n",
        "        #print(outputs.squeeze().shape)\n",
        "        loss = criterion(outputs.squeeze(), targets)\n",
        "        loss.backward()\n",
        "        optimizer.step()\n",
        "        running_loss += loss.item()\n",
        "    epoch_loss = running_loss / len(train_loader)\n",
        "    print(f\"Epoch {epoch+1}/{num_epochs}, Loss: {epoch_loss:.4f}\")\n"
      ]
    },
    {
      "cell_type": "code",
      "execution_count": null,
      "id": "385c69a6",
      "metadata": {
        "id": "385c69a6",
        "outputId": "b24c411c-d9ac-4cca-d543-fc0ec0ac2818"
      },
      "outputs": [
        {
          "name": "stdout",
          "output_type": "stream",
          "text": [
            "Accuracy on test set: 66.85%\n"
          ]
        }
      ],
      "source": [
        "model.eval()\n",
        "correct = 0\n",
        "total = 0\n",
        "\n",
        "with torch.no_grad():\n",
        "    for inputs, targets in test_loader:\n",
        "        outputs = model(inputs)\n",
        "        predicted = torch.round(outputs)\n",
        "        total += targets.size(0)\n",
        "        correct += (predicted == targets.unsqueeze(1)).sum().item()  # Ensure targets are 2D\n",
        "\n",
        "accuracy = correct / total\n",
        "print(f\"Accuracy on test set: {accuracy:.2%}\")\n"
      ]
    }
  ],
  "metadata": {
    "kernelspec": {
      "display_name": "Python 3",
      "language": "python",
      "name": "python3"
    },
    "language_info": {
      "codemirror_mode": {
        "name": "ipython",
        "version": 3
      },
      "file_extension": ".py",
      "mimetype": "text/x-python",
      "name": "python",
      "nbconvert_exporter": "python",
      "pygments_lexer": "ipython3",
      "version": "3.12.5"
    },
    "colab": {
      "provenance": [],
      "include_colab_link": true
    }
  },
  "nbformat": 4,
  "nbformat_minor": 5
}